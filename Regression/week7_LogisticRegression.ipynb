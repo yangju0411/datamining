{
 "cells": [
  {
   "cell_type": "code",
   "execution_count": 2,
   "metadata": {
    "ExecuteTime": {
     "end_time": "2021-04-17T11:54:40.900228Z",
     "start_time": "2021-04-17T11:54:40.660Z"
    }
   },
   "outputs": [
    {
     "name": "stdout",
     "output_type": "stream",
     "text": [
      "'data.frame':\t10000 obs. of  26 variables:\n",
      " $ ID      : Factor w/ 10000 levels \"000054889\",\"000219612\",..: 11 18 25 101 140 150 162 178 187 209 ...\n",
      " $ RESPOND : int  0 0 0 0 0 0 0 0 0 0 ...\n",
      " $ AGE     : int  71 53 53 45 32 35 43 39 66 NA ...\n",
      " $ INCOME  : int  67 72 70 56 66 48 49 64 65 NA ...\n",
      " $ SEX     : Factor w/ 3 levels \"\",\"F\",\"M\": 3 3 2 2 2 2 2 3 3 1 ...\n",
      " $ MARRIED : int  1 1 1 0 0 0 0 0 0 NA ...\n",
      " $ FICO    : int  719 751 725 684 651 691 694 659 692 707 ...\n",
      " $ OWNHOME : int  0 0 0 0 0 1 1 0 0 NA ...\n",
      " $ LOC     : Factor w/ 8 levels \"A\",\"B\",\"C\",\"D\",..: 1 1 1 1 1 1 1 1 1 1 ...\n",
      " $ CLIMATE : int  10 10 10 10 10 10 10 10 10 10 ...\n",
      " $ BUY6    : int  1 0 1 0 0 0 0 0 0 0 ...\n",
      " $ BUY12   : int  1 0 1 0 0 0 0 0 0 0 ...\n",
      " $ BUY18   : int  1 0 1 1 0 0 0 0 0 0 ...\n",
      " $ VALUE24 : int  318 83 265 448 161 250 194 446 214 198 ...\n",
      " $ ORGSRC  : Factor w/ 8 levels \"\",\"C\",\"D\",\"I\",..: 5 7 3 5 7 2 7 3 5 5 ...\n",
      " $ DISCBUY : int  1 0 0 1 0 0 0 0 1 0 ...\n",
      " $ RETURN24: int  0 0 0 0 0 1 1 0 0 0 ...\n",
      " $ COA6    : int  0 0 0 0 0 0 0 0 0 0 ...\n",
      " $ C1      : int  0 0 0 0 0 0 0 0 0 0 ...\n",
      " $ C2      : int  0 0 0 0 0 0 0 0 0 0 ...\n",
      " $ C3      : int  0 0 0 0 0 0 0 0 0 0 ...\n",
      " $ C4      : int  0 0 0 0 0 0 0 0 0 0 ...\n",
      " $ C5      : int  0 0 0 0 0 0 0 0 0 0 ...\n",
      " $ C6      : int  0 0 0 0 0 0 0 0 0 0 ...\n",
      " $ C7      : int  0 0 0 0 0 0 0 0 0 0 ...\n",
      " $ PURCHTOT: int  0 0 0 0 0 0 0 0 0 0 ...\n"
     ]
    },
    {
     "data": {
      "text/html": [
       "<ol class=list-inline>\n",
       "\t<li>10000</li>\n",
       "\t<li>26</li>\n",
       "</ol>\n"
      ],
      "text/latex": [
       "\\begin{enumerate*}\n",
       "\\item 10000\n",
       "\\item 26\n",
       "\\end{enumerate*}\n"
      ],
      "text/markdown": [
       "1. 10000\n",
       "2. 26\n",
       "\n",
       "\n"
      ],
      "text/plain": [
       "[1] 10000    26"
      ]
     },
     "metadata": {},
     "output_type": "display_data"
    }
   ],
   "source": [
    "buytest=read.csv(\"buytest.csv\", header=T)\n",
    "str(buytest)\n",
    "dim(buytest)"
   ]
  },
  {
   "cell_type": "code",
   "execution_count": 4,
   "metadata": {
    "ExecuteTime": {
     "end_time": "2021-04-17T11:54:57.704078Z",
     "start_time": "2021-04-17T11:54:57.660Z"
    }
   },
   "outputs": [],
   "source": [
    "buytest$RESPOND=as.factor(buytest$RESPOND)\n",
    "buytest$MARRIED=as.factor(buytest$MARRIED)\n",
    "buytest$COA6=as.factor(buytest$COA6)\n",
    "buytest$OWNHOME=as.factor(buytest$OWNHOME)\n",
    "buytest$CLIMATE=as.factor(buytest$CLIMATE)\n",
    "buytest$DISCBUY=as.factor(buytest$DISCBUY)"
   ]
  },
  {
   "cell_type": "code",
   "execution_count": 5,
   "metadata": {
    "ExecuteTime": {
     "end_time": "2021-04-17T11:55:05.939198Z",
     "start_time": "2021-04-17T11:55:05.911Z"
    }
   },
   "outputs": [],
   "source": [
    "buytest1=buytest[,1:18]"
   ]
  },
  {
   "cell_type": "markdown",
   "metadata": {},
   "source": [
    "일부 변수만 선택"
   ]
  },
  {
   "cell_type": "markdown",
   "metadata": {},
   "source": [
    "RESPOND를 타겟으로 로지스틱 회귀분석"
   ]
  },
  {
   "cell_type": "markdown",
   "metadata": {},
   "source": [
    "## split data "
   ]
  },
  {
   "cell_type": "code",
   "execution_count": 6,
   "metadata": {
    "ExecuteTime": {
     "end_time": "2021-04-17T11:55:46.708389Z",
     "start_time": "2021-04-17T11:55:46.669Z"
    }
   },
   "outputs": [],
   "source": [
    "set.seed(1234) \n",
    "ind <- sample(2, nrow(buytest1), replace=T, prob=c(0.7, 0.3))\n",
    "trainData <- buytest1[ind==1,]\n",
    "testData <- buytest1[ind==2,]"
   ]
  },
  {
   "cell_type": "markdown",
   "metadata": {},
   "source": [
    "## model "
   ]
  },
  {
   "cell_type": "code",
   "execution_count": 7,
   "metadata": {
    "ExecuteTime": {
     "end_time": "2021-04-17T11:56:21.984146Z",
     "start_time": "2021-04-17T11:56:21.893Z"
    }
   },
   "outputs": [
    {
     "data": {
      "text/plain": [
       "\n",
       "Call:\n",
       "glm(formula = RESPOND ~ AGE + CLIMATE, family = binomial, data = trainData)\n",
       "\n",
       "Deviance Residuals: \n",
       "    Min       1Q   Median       3Q      Max  \n",
       "-0.6500  -0.4276  -0.3869  -0.3473   2.5725  \n",
       "\n",
       "Coefficients:\n",
       "             Estimate Std. Error z value Pr(>|z|)    \n",
       "(Intercept) -0.961133   0.213809  -4.495 6.95e-06 ***\n",
       "AGE         -0.027007   0.004512  -5.986 2.15e-09 ***\n",
       "CLIMATE20   -0.412689   0.112614  -3.665 0.000248 ***\n",
       "CLIMATE30   -0.393119   0.140619  -2.796 0.005180 ** \n",
       "---\n",
       "Signif. codes:  0 ‘***’ 0.001 ‘**’ 0.01 ‘*’ 0.05 ‘.’ 0.1 ‘ ’ 1\n",
       "\n",
       "(Dispersion parameter for binomial family taken to be 1)\n",
       "\n",
       "    Null deviance: 3783.4  on 6870  degrees of freedom\n",
       "Residual deviance: 3734.0  on 6867  degrees of freedom\n",
       "  (170 observations deleted due to missingness)\n",
       "AIC: 3742\n",
       "\n",
       "Number of Fisher Scoring iterations: 5\n"
      ]
     },
     "metadata": {},
     "output_type": "display_data"
    }
   ],
   "source": [
    "out_r=glm(RESPOND~AGE+CLIMATE, family=binomial, data=trainData)\n",
    "summary(out_r)"
   ]
  },
  {
   "cell_type": "markdown",
   "metadata": {},
   "source": [
    "age와 climate만 독립변수로 respond를 예측하는데 이 때 climate는 범주형 변수로 팩터화가 되어있다. 그리하여 회귀모델에서는 자동으로 더미 변수로 변환된다. climate는 10, 20, 30 세 범주로 나뉘는데 세 범주이므로 더미 변수는 CLIMATE20, CLIMATE30 두 개이다."
   ]
  },
  {
   "cell_type": "code",
   "execution_count": 8,
   "metadata": {
    "ExecuteTime": {
     "end_time": "2021-04-17T11:56:33.124334Z",
     "start_time": "2021-04-17T11:56:33.092Z"
    }
   },
   "outputs": [
    {
     "data": {
      "text/html": [
       "<ol class=list-inline>\n",
       "\t<li>'coefficients'</li>\n",
       "\t<li>'residuals'</li>\n",
       "\t<li>'fitted.values'</li>\n",
       "\t<li>'effects'</li>\n",
       "\t<li>'R'</li>\n",
       "\t<li>'rank'</li>\n",
       "\t<li>'qr'</li>\n",
       "\t<li>'family'</li>\n",
       "\t<li>'linear.predictors'</li>\n",
       "\t<li>'deviance'</li>\n",
       "\t<li>'aic'</li>\n",
       "\t<li>'null.deviance'</li>\n",
       "\t<li>'iter'</li>\n",
       "\t<li>'weights'</li>\n",
       "\t<li>'prior.weights'</li>\n",
       "\t<li>'df.residual'</li>\n",
       "\t<li>'df.null'</li>\n",
       "\t<li>'y'</li>\n",
       "\t<li>'converged'</li>\n",
       "\t<li>'boundary'</li>\n",
       "\t<li>'model'</li>\n",
       "\t<li>'na.action'</li>\n",
       "\t<li>'call'</li>\n",
       "\t<li>'formula'</li>\n",
       "\t<li>'terms'</li>\n",
       "\t<li>'data'</li>\n",
       "\t<li>'offset'</li>\n",
       "\t<li>'control'</li>\n",
       "\t<li>'method'</li>\n",
       "\t<li>'contrasts'</li>\n",
       "\t<li>'xlevels'</li>\n",
       "</ol>\n"
      ],
      "text/latex": [
       "\\begin{enumerate*}\n",
       "\\item 'coefficients'\n",
       "\\item 'residuals'\n",
       "\\item 'fitted.values'\n",
       "\\item 'effects'\n",
       "\\item 'R'\n",
       "\\item 'rank'\n",
       "\\item 'qr'\n",
       "\\item 'family'\n",
       "\\item 'linear.predictors'\n",
       "\\item 'deviance'\n",
       "\\item 'aic'\n",
       "\\item 'null.deviance'\n",
       "\\item 'iter'\n",
       "\\item 'weights'\n",
       "\\item 'prior.weights'\n",
       "\\item 'df.residual'\n",
       "\\item 'df.null'\n",
       "\\item 'y'\n",
       "\\item 'converged'\n",
       "\\item 'boundary'\n",
       "\\item 'model'\n",
       "\\item 'na.action'\n",
       "\\item 'call'\n",
       "\\item 'formula'\n",
       "\\item 'terms'\n",
       "\\item 'data'\n",
       "\\item 'offset'\n",
       "\\item 'control'\n",
       "\\item 'method'\n",
       "\\item 'contrasts'\n",
       "\\item 'xlevels'\n",
       "\\end{enumerate*}\n"
      ],
      "text/markdown": [
       "1. 'coefficients'\n",
       "2. 'residuals'\n",
       "3. 'fitted.values'\n",
       "4. 'effects'\n",
       "5. 'R'\n",
       "6. 'rank'\n",
       "7. 'qr'\n",
       "8. 'family'\n",
       "9. 'linear.predictors'\n",
       "10. 'deviance'\n",
       "11. 'aic'\n",
       "12. 'null.deviance'\n",
       "13. 'iter'\n",
       "14. 'weights'\n",
       "15. 'prior.weights'\n",
       "16. 'df.residual'\n",
       "17. 'df.null'\n",
       "18. 'y'\n",
       "19. 'converged'\n",
       "20. 'boundary'\n",
       "21. 'model'\n",
       "22. 'na.action'\n",
       "23. 'call'\n",
       "24. 'formula'\n",
       "25. 'terms'\n",
       "26. 'data'\n",
       "27. 'offset'\n",
       "28. 'control'\n",
       "29. 'method'\n",
       "30. 'contrasts'\n",
       "31. 'xlevels'\n",
       "\n",
       "\n"
      ],
      "text/plain": [
       " [1] \"coefficients\"      \"residuals\"         \"fitted.values\"    \n",
       " [4] \"effects\"           \"R\"                 \"rank\"             \n",
       " [7] \"qr\"                \"family\"            \"linear.predictors\"\n",
       "[10] \"deviance\"          \"aic\"               \"null.deviance\"    \n",
       "[13] \"iter\"              \"weights\"           \"prior.weights\"    \n",
       "[16] \"df.residual\"       \"df.null\"           \"y\"                \n",
       "[19] \"converged\"         \"boundary\"          \"model\"            \n",
       "[22] \"na.action\"         \"call\"              \"formula\"          \n",
       "[25] \"terms\"             \"data\"              \"offset\"           \n",
       "[28] \"control\"           \"method\"            \"contrasts\"        \n",
       "[31] \"xlevels\"          "
      ]
     },
     "metadata": {},
     "output_type": "display_data"
    }
   ],
   "source": [
    "names(out_r)"
   ]
  },
  {
   "cell_type": "code",
   "execution_count": 9,
   "metadata": {
    "ExecuteTime": {
     "end_time": "2021-04-17T11:56:39.414599Z",
     "start_time": "2021-04-17T11:56:39.372Z"
    }
   },
   "outputs": [
    {
     "data": {
      "text/html": [
       "<dl class=dl-horizontal>\n",
       "\t<dt>(Intercept)</dt>\n",
       "\t\t<dd>2.61465619379832</dd>\n",
       "\t<dt>AGE</dt>\n",
       "\t\t<dd>1.02737467429856</dd>\n",
       "\t<dt>CLIMATE20</dt>\n",
       "\t\t<dd>1.51087500379742</dd>\n",
       "\t<dt>CLIMATE30</dt>\n",
       "\t\t<dd>1.48159504067462</dd>\n",
       "</dl>\n"
      ],
      "text/latex": [
       "\\begin{description*}\n",
       "\\item[(Intercept)] 2.61465619379832\n",
       "\\item[AGE] 1.02737467429856\n",
       "\\item[CLIMATE20] 1.51087500379742\n",
       "\\item[CLIMATE30] 1.48159504067462\n",
       "\\end{description*}\n"
      ],
      "text/markdown": [
       "(Intercept)\n",
       ":   2.61465619379832AGE\n",
       ":   1.02737467429856CLIMATE20\n",
       ":   1.51087500379742CLIMATE30\n",
       ":   1.48159504067462\n",
       "\n"
      ],
      "text/plain": [
       "(Intercept)         AGE   CLIMATE20   CLIMATE30 \n",
       "   2.614656    1.027375    1.510875    1.481595 "
      ]
     },
     "metadata": {},
     "output_type": "display_data"
    }
   ],
   "source": [
    "1/exp(out_r$coefficients)"
   ]
  },
  {
   "cell_type": "markdown",
   "metadata": {},
   "source": [
    "계수들이 음수였으므로 1/exp()를 하여 오즈비를 보았는데 예를 들어 나이 AGE가 1증가하면 respond일 확률이 1.027배씩 감소한다."
   ]
  },
  {
   "cell_type": "markdown",
   "metadata": {},
   "source": [
    "## modeling and selection"
   ]
  },
  {
   "cell_type": "code",
   "execution_count": 10,
   "metadata": {
    "ExecuteTime": {
     "end_time": "2021-04-17T12:13:23.042408Z",
     "start_time": "2021-04-17T12:13:23.019Z"
    }
   },
   "outputs": [],
   "source": [
    "mine=RESPOND~AGE+INCOME+SEX+MARRIED+FICO+OWNHOME+LOC+CLIMATE+BUY6+BUY12+BUY18+VALUE24+\n",
    "             ORGSRC+DISCBUY+RETURN24+COA6"
   ]
  },
  {
   "cell_type": "code",
   "execution_count": 11,
   "metadata": {
    "ExecuteTime": {
     "end_time": "2021-04-17T12:13:32.067183Z",
     "start_time": "2021-04-17T12:13:31.924Z"
    }
   },
   "outputs": [
    {
     "data": {
      "text/plain": [
       "\n",
       "Call:\n",
       "glm(formula = mine, family = binomial, data = trainData)\n",
       "\n",
       "Deviance Residuals: \n",
       "    Min       1Q   Median       3Q      Max  \n",
       "-1.1689  -0.4328  -0.3606  -0.2962   2.8740  \n",
       "\n",
       "Coefficients: (2 not defined because of singularities)\n",
       "              Estimate Std. Error z value Pr(>|z|)    \n",
       "(Intercept)  6.017e-01  1.148e+00   0.524   0.6002    \n",
       "AGE         -3.787e-02  5.222e-03  -7.252 4.10e-13 ***\n",
       "INCOME      -2.067e-04  2.960e-03  -0.070   0.9443    \n",
       "SEXM         2.411e-03  9.369e-02   0.026   0.9795    \n",
       "MARRIED1     5.369e-01  1.052e-01   5.102 3.36e-07 ***\n",
       "FICO        -2.948e-03  1.553e-03  -1.898   0.0577 .  \n",
       "OWNHOME1    -4.263e-01  1.085e-01  -3.929 8.53e-05 ***\n",
       "LOCB        -1.202e-02  2.137e-01  -0.056   0.9551    \n",
       "LOCC         3.848e-01  2.494e-01   1.543   0.1229    \n",
       "LOCD         3.738e-01  2.483e-01   1.506   0.1322    \n",
       "LOCE        -9.767e-02  2.148e-01  -0.455   0.6493    \n",
       "LOCF        -1.089e-01  2.158e-01  -0.505   0.6137    \n",
       "LOCG        -2.257e-01  2.504e-01  -0.901   0.3674    \n",
       "LOCH        -6.849e-02  2.375e-01  -0.288   0.7731    \n",
       "CLIMATE20           NA         NA      NA       NA    \n",
       "CLIMATE30           NA         NA      NA       NA    \n",
       "BUY6        -2.922e-03  1.902e-01  -0.015   0.9877    \n",
       "BUY12       -5.241e-01  1.821e-01  -2.878   0.0040 ** \n",
       "BUY18        7.555e-01  1.225e-01   6.169 6.87e-10 ***\n",
       "VALUE24     -3.905e-05  3.900e-04  -0.100   0.9202    \n",
       "ORGSRCC      2.116e-01  2.606e-01   0.812   0.4168    \n",
       "ORGSRCD      1.151e-01  2.528e-01   0.455   0.6490    \n",
       "ORGSRCI      4.927e-01  4.905e-01   1.004   0.3152    \n",
       "ORGSRCO      3.156e-01  2.455e-01   1.286   0.1986    \n",
       "ORGSRCP      4.772e-01  2.498e-01   1.910   0.0561 .  \n",
       "ORGSRCR      2.880e-01  2.598e-01   1.109   0.2676    \n",
       "ORGSRCU      2.833e-01  2.507e-01   1.130   0.2585    \n",
       "DISCBUY1    -5.245e-02  1.035e-01  -0.507   0.6125    \n",
       "RETURN24     2.713e-02  1.744e-01   0.156   0.8764    \n",
       "COA61        1.089e-01  2.425e-01   0.449   0.6534    \n",
       "---\n",
       "Signif. codes:  0 ‘***’ 0.001 ‘**’ 0.01 ‘*’ 0.05 ‘.’ 0.1 ‘ ’ 1\n",
       "\n",
       "(Dispersion parameter for binomial family taken to be 1)\n",
       "\n",
       "    Null deviance: 3778.9  on 6843  degrees of freedom\n",
       "Residual deviance: 3606.1  on 6816  degrees of freedom\n",
       "  (197 observations deleted due to missingness)\n",
       "AIC: 3662.1\n",
       "\n",
       "Number of Fisher Scoring iterations: 5\n"
      ]
     },
     "metadata": {},
     "output_type": "display_data"
    }
   ],
   "source": [
    "out_f=glm(mine, family=binomial, data=trainData)\n",
    "summary(out_f)"
   ]
  },
  {
   "cell_type": "code",
   "execution_count": 12,
   "metadata": {
    "ExecuteTime": {
     "end_time": "2021-04-17T12:13:50.952730Z",
     "start_time": "2021-04-17T12:13:41.613Z"
    }
   },
   "outputs": [
    {
     "name": "stdout",
     "output_type": "stream",
     "text": [
      "Start:  AIC=3662.07\n",
      "RESPOND ~ AGE + INCOME + SEX + MARRIED + FICO + OWNHOME + LOC + \n",
      "    CLIMATE + BUY6 + BUY12 + BUY18 + VALUE24 + ORGSRC + DISCBUY + \n",
      "    RETURN24 + COA6\n",
      "\n",
      "\n",
      "Step:  AIC=3662.07\n",
      "RESPOND ~ AGE + INCOME + SEX + MARRIED + FICO + OWNHOME + LOC + \n",
      "    BUY6 + BUY12 + BUY18 + VALUE24 + ORGSRC + DISCBUY + RETURN24 + \n",
      "    COA6\n",
      "\n",
      "           Df Deviance    AIC\n",
      "- ORGSRC    7   3613.6 3655.6\n",
      "- BUY6      1   3606.1 3660.1\n",
      "- SEX       1   3606.1 3660.1\n",
      "- INCOME    1   3606.1 3660.1\n",
      "- VALUE24   1   3606.1 3660.1\n",
      "- RETURN24  1   3606.1 3660.1\n",
      "- COA6      1   3606.3 3660.3\n",
      "- DISCBUY   1   3606.3 3660.3\n",
      "<none>          3606.1 3662.1\n",
      "- LOC       7   3620.2 3662.2\n",
      "- FICO      1   3609.7 3663.7\n",
      "- BUY12     1   3614.7 3668.7\n",
      "- OWNHOME   1   3622.3 3676.3\n",
      "- MARRIED   1   3632.9 3686.9\n",
      "- BUY18     1   3641.8 3695.8\n",
      "- AGE       1   3660.8 3714.8\n",
      "\n",
      "Step:  AIC=3655.58\n",
      "RESPOND ~ AGE + INCOME + SEX + MARRIED + FICO + OWNHOME + LOC + \n",
      "    BUY6 + BUY12 + BUY18 + VALUE24 + DISCBUY + RETURN24 + COA6\n",
      "\n",
      "           Df Deviance    AIC\n",
      "- VALUE24   1   3613.6 3653.6\n",
      "- SEX       1   3613.6 3653.6\n",
      "- BUY6      1   3613.6 3653.6\n",
      "- INCOME    1   3613.6 3653.6\n",
      "- RETURN24  1   3613.6 3653.6\n",
      "- COA6      1   3613.8 3653.8\n",
      "- DISCBUY   1   3613.8 3653.8\n",
      "- LOC       7   3627.2 3655.2\n",
      "<none>          3613.6 3655.6\n",
      "- FICO      1   3617.0 3657.0\n",
      "+ ORGSRC    7   3606.1 3662.1\n",
      "- BUY12     1   3622.1 3662.1\n",
      "- OWNHOME   1   3629.5 3669.5\n",
      "- MARRIED   1   3640.8 3680.8\n",
      "- BUY18     1   3649.0 3689.0\n",
      "- AGE       1   3668.8 3708.8\n",
      "\n",
      "Step:  AIC=3653.58\n",
      "RESPOND ~ AGE + INCOME + SEX + MARRIED + FICO + OWNHOME + LOC + \n",
      "    BUY6 + BUY12 + BUY18 + DISCBUY + RETURN24 + COA6\n",
      "\n",
      "           Df Deviance    AIC\n",
      "- SEX       1   3613.6 3651.6\n",
      "- BUY6      1   3613.6 3651.6\n",
      "- INCOME    1   3613.6 3651.6\n",
      "- RETURN24  1   3613.6 3651.6\n",
      "- COA6      1   3613.8 3651.8\n",
      "- DISCBUY   1   3613.8 3651.8\n",
      "- LOC       7   3627.4 3653.4\n",
      "<none>          3613.6 3653.6\n",
      "- FICO      1   3617.0 3655.0\n",
      "+ VALUE24   1   3613.6 3655.6\n",
      "+ ORGSRC    7   3606.1 3660.1\n",
      "- BUY12     1   3622.1 3660.1\n",
      "- OWNHOME   1   3629.5 3667.5\n",
      "- MARRIED   1   3640.8 3678.8\n",
      "- BUY18     1   3663.6 3701.6\n",
      "- AGE       1   3668.8 3706.8\n",
      "\n",
      "Step:  AIC=3651.58\n",
      "RESPOND ~ AGE + INCOME + MARRIED + FICO + OWNHOME + LOC + BUY6 + \n",
      "    BUY12 + BUY18 + DISCBUY + RETURN24 + COA6\n",
      "\n",
      "           Df Deviance    AIC\n",
      "- BUY6      1   3613.6 3649.6\n",
      "- INCOME    1   3613.6 3649.6\n",
      "- RETURN24  1   3613.6 3649.6\n",
      "- COA6      1   3613.8 3649.8\n",
      "- DISCBUY   1   3613.8 3649.8\n",
      "- LOC       7   3627.4 3651.4\n",
      "<none>          3613.6 3651.6\n",
      "- FICO      1   3617.0 3653.0\n",
      "+ SEX       1   3613.6 3653.6\n",
      "+ VALUE24   1   3613.6 3653.6\n",
      "+ ORGSRC    7   3606.1 3658.1\n",
      "- BUY12     1   3622.1 3658.1\n",
      "- OWNHOME   1   3629.5 3665.5\n",
      "- MARRIED   1   3640.8 3676.8\n",
      "- BUY18     1   3663.6 3699.6\n",
      "- AGE       1   3668.9 3704.9\n",
      "\n",
      "Step:  AIC=3649.59\n",
      "RESPOND ~ AGE + INCOME + MARRIED + FICO + OWNHOME + LOC + BUY12 + \n",
      "    BUY18 + DISCBUY + RETURN24 + COA6\n",
      "\n",
      "           Df Deviance    AIC\n",
      "- INCOME    1   3613.6 3647.6\n",
      "- RETURN24  1   3613.6 3647.6\n",
      "- COA6      1   3613.8 3647.8\n",
      "- DISCBUY   1   3613.8 3647.8\n",
      "- LOC       7   3627.4 3649.4\n",
      "<none>          3613.6 3649.6\n",
      "- FICO      1   3617.0 3651.0\n",
      "+ BUY6      1   3613.6 3651.6\n",
      "+ SEX       1   3613.6 3651.6\n",
      "+ VALUE24   1   3613.6 3651.6\n",
      "+ ORGSRC    7   3606.1 3656.1\n",
      "- BUY12     1   3628.0 3662.0\n",
      "- OWNHOME   1   3629.5 3663.5\n",
      "- MARRIED   1   3640.9 3674.9\n",
      "- BUY18     1   3663.6 3697.6\n",
      "- AGE       1   3668.9 3702.9\n",
      "\n",
      "Step:  AIC=3647.6\n",
      "RESPOND ~ AGE + MARRIED + FICO + OWNHOME + LOC + BUY12 + BUY18 + \n",
      "    DISCBUY + RETURN24 + COA6\n",
      "\n",
      "           Df Deviance    AIC\n",
      "- RETURN24  1   3613.6 3645.6\n",
      "- COA6      1   3613.8 3645.8\n",
      "- DISCBUY   1   3613.8 3645.8\n",
      "- LOC       7   3627.5 3647.5\n",
      "<none>          3613.6 3647.6\n",
      "- FICO      1   3617.0 3649.0\n",
      "+ INCOME    1   3613.6 3649.6\n",
      "+ BUY6      1   3613.6 3649.6\n",
      "+ VALUE24   1   3613.6 3649.6\n",
      "+ SEX       1   3613.6 3649.6\n",
      "+ ORGSRC    7   3606.1 3654.1\n",
      "- BUY12     1   3628.0 3660.0\n",
      "- OWNHOME   1   3629.9 3661.9\n",
      "- MARRIED   1   3640.9 3672.9\n",
      "- BUY18     1   3663.6 3695.6\n",
      "- AGE       1   3668.9 3700.9\n",
      "\n",
      "Step:  AIC=3645.63\n",
      "RESPOND ~ AGE + MARRIED + FICO + OWNHOME + LOC + BUY12 + BUY18 + \n",
      "    DISCBUY + COA6\n",
      "\n",
      "           Df Deviance    AIC\n",
      "- COA6      1   3613.8 3643.8\n",
      "- DISCBUY   1   3613.9 3643.9\n",
      "- LOC       7   3627.5 3645.5\n",
      "<none>          3613.6 3645.6\n",
      "- FICO      1   3617.0 3647.0\n",
      "+ RETURN24  1   3613.6 3647.6\n",
      "+ INCOME    1   3613.6 3647.6\n",
      "+ BUY6      1   3613.6 3647.6\n",
      "+ VALUE24   1   3613.6 3647.6\n",
      "+ SEX       1   3613.6 3647.6\n",
      "+ ORGSRC    7   3606.1 3652.1\n",
      "- BUY12     1   3628.1 3658.1\n",
      "- OWNHOME   1   3630.0 3660.0\n",
      "- MARRIED   1   3640.9 3670.9\n",
      "- BUY18     1   3663.6 3693.6\n",
      "- AGE       1   3668.9 3698.9\n",
      "\n",
      "Step:  AIC=3643.82\n",
      "RESPOND ~ AGE + MARRIED + FICO + OWNHOME + LOC + BUY12 + BUY18 + \n",
      "    DISCBUY\n",
      "\n",
      "           Df Deviance    AIC\n",
      "- DISCBUY   1   3614.0 3642.0\n",
      "- LOC       7   3627.8 3643.8\n",
      "<none>          3613.8 3643.8\n",
      "- FICO      1   3617.2 3645.2\n",
      "+ COA6      1   3613.6 3645.6\n",
      "+ RETURN24  1   3613.8 3645.8\n",
      "+ INCOME    1   3613.8 3645.8\n",
      "+ BUY6      1   3613.8 3645.8\n",
      "+ VALUE24   1   3613.8 3645.8\n",
      "+ SEX       1   3613.8 3645.8\n",
      "+ ORGSRC    7   3606.3 3650.3\n",
      "- BUY12     1   3628.2 3656.2\n",
      "- OWNHOME   1   3630.3 3658.3\n",
      "- MARRIED   1   3641.1 3669.1\n",
      "- BUY18     1   3663.9 3691.9\n",
      "- AGE       1   3670.3 3698.3\n",
      "\n",
      "Step:  AIC=3642.04\n",
      "RESPOND ~ AGE + MARRIED + FICO + OWNHOME + LOC + BUY12 + BUY18\n",
      "\n",
      "           Df Deviance    AIC\n",
      "<none>          3614.0 3642.0\n",
      "- LOC       7   3628.1 3642.1\n",
      "- FICO      1   3617.4 3643.4\n",
      "+ DISCBUY   1   3613.8 3643.8\n",
      "+ COA6      1   3613.9 3643.9\n",
      "+ RETURN24  1   3614.0 3644.0\n",
      "+ INCOME    1   3614.0 3644.0\n",
      "+ BUY6      1   3614.0 3644.0\n",
      "+ VALUE24   1   3614.0 3644.0\n",
      "+ SEX       1   3614.0 3644.0\n",
      "+ ORGSRC    7   3606.6 3648.6\n",
      "- BUY12     1   3628.5 3654.5\n",
      "- OWNHOME   1   3630.5 3656.5\n",
      "- MARRIED   1   3641.4 3667.4\n",
      "- BUY18     1   3664.1 3690.1\n",
      "- AGE       1   3670.6 3696.6\n"
     ]
    }
   ],
   "source": [
    "out_step=step(out_f, direction=\"both\")"
   ]
  },
  {
   "cell_type": "code",
   "execution_count": 13,
   "metadata": {
    "ExecuteTime": {
     "end_time": "2021-04-17T12:13:58.464115Z",
     "start_time": "2021-04-17T12:13:58.428Z"
    }
   },
   "outputs": [
    {
     "data": {
      "text/plain": [
       "\n",
       "Call:\n",
       "glm(formula = RESPOND ~ AGE + MARRIED + FICO + OWNHOME + LOC + \n",
       "    BUY12 + BUY18, family = binomial, data = trainData)\n",
       "\n",
       "Deviance Residuals: \n",
       "    Min       1Q   Median       3Q      Max  \n",
       "-1.1925  -0.4311  -0.3635  -0.2997   2.8973  \n",
       "\n",
       "Coefficients:\n",
       "             Estimate Std. Error z value Pr(>|z|)    \n",
       "(Intercept)  0.781673   1.105404   0.707 0.479481    \n",
       "AGE         -0.038215   0.005183  -7.373 1.67e-13 ***\n",
       "MARRIED1     0.540174   0.104816   5.154 2.56e-07 ***\n",
       "FICO        -0.002841   0.001544  -1.840 0.065745 .  \n",
       "OWNHOME1    -0.424566   0.107417  -3.953 7.73e-05 ***\n",
       "LOCB        -0.001011   0.213219  -0.005 0.996216    \n",
       "LOCC         0.389431   0.248059   1.570 0.116435    \n",
       "LOCD         0.379282   0.247372   1.533 0.125216    \n",
       "LOCE        -0.085818   0.214119  -0.401 0.688571    \n",
       "LOCF        -0.103036   0.215315  -0.479 0.632270    \n",
       "LOCG        -0.214750   0.243710  -0.881 0.378224    \n",
       "LOCH        -0.055722   0.232643  -0.240 0.810704    \n",
       "BUY12       -0.528015   0.138913  -3.801 0.000144 ***\n",
       "BUY18        0.748153   0.099721   7.502 6.26e-14 ***\n",
       "---\n",
       "Signif. codes:  0 ‘***’ 0.001 ‘**’ 0.01 ‘*’ 0.05 ‘.’ 0.1 ‘ ’ 1\n",
       "\n",
       "(Dispersion parameter for binomial family taken to be 1)\n",
       "\n",
       "    Null deviance: 3778.9  on 6843  degrees of freedom\n",
       "Residual deviance: 3614.0  on 6830  degrees of freedom\n",
       "  (197 observations deleted due to missingness)\n",
       "AIC: 3642\n",
       "\n",
       "Number of Fisher Scoring iterations: 5\n"
      ]
     },
     "metadata": {},
     "output_type": "display_data"
    }
   ],
   "source": [
    "summary(out_step)"
   ]
  },
  {
   "cell_type": "code",
   "execution_count": 14,
   "metadata": {
    "ExecuteTime": {
     "end_time": "2021-04-17T12:14:07.398009Z",
     "start_time": "2021-04-17T12:14:07.366Z"
    }
   },
   "outputs": [
    {
     "data": {
      "text/html": [
       "<dl class=dl-horizontal>\n",
       "\t<dt>(Intercept)</dt>\n",
       "\t\t<dd>2.18512477232679</dd>\n",
       "\t<dt>AGE</dt>\n",
       "\t\t<dd>0.962506117511545</dd>\n",
       "\t<dt>MARRIED1</dt>\n",
       "\t\t<dd>1.71630629747222</dd>\n",
       "\t<dt>FICO</dt>\n",
       "\t\t<dd>0.997162995091507</dd>\n",
       "\t<dt>OWNHOME1</dt>\n",
       "\t\t<dd>0.654053469128681</dd>\n",
       "\t<dt>LOCB</dt>\n",
       "\t\t<dd>0.998989251062105</dd>\n",
       "\t<dt>LOCC</dt>\n",
       "\t\t<dd>1.47614130522378</dd>\n",
       "\t<dt>LOCD</dt>\n",
       "\t\t<dd>1.46123532447719</dd>\n",
       "\t<dt>LOCE</dt>\n",
       "\t\t<dd>0.917761431519802</dd>\n",
       "\t<dt>LOCF</dt>\n",
       "\t\t<dd>0.902094934830047</dd>\n",
       "\t<dt>LOCG</dt>\n",
       "\t\t<dd>0.806742969761622</dd>\n",
       "\t<dt>LOCH</dt>\n",
       "\t\t<dd>0.945801909087099</dd>\n",
       "\t<dt>BUY12</dt>\n",
       "\t\t<dd>0.589774380312537</dd>\n",
       "\t<dt>BUY18</dt>\n",
       "\t\t<dd>2.11309429711678</dd>\n",
       "</dl>\n"
      ],
      "text/latex": [
       "\\begin{description*}\n",
       "\\item[(Intercept)] 2.18512477232679\n",
       "\\item[AGE] 0.962506117511545\n",
       "\\item[MARRIED1] 1.71630629747222\n",
       "\\item[FICO] 0.997162995091507\n",
       "\\item[OWNHOME1] 0.654053469128681\n",
       "\\item[LOCB] 0.998989251062105\n",
       "\\item[LOCC] 1.47614130522378\n",
       "\\item[LOCD] 1.46123532447719\n",
       "\\item[LOCE] 0.917761431519802\n",
       "\\item[LOCF] 0.902094934830047\n",
       "\\item[LOCG] 0.806742969761622\n",
       "\\item[LOCH] 0.945801909087099\n",
       "\\item[BUY12] 0.589774380312537\n",
       "\\item[BUY18] 2.11309429711678\n",
       "\\end{description*}\n"
      ],
      "text/markdown": [
       "(Intercept)\n",
       ":   2.18512477232679AGE\n",
       ":   0.962506117511545MARRIED1\n",
       ":   1.71630629747222FICO\n",
       ":   0.997162995091507OWNHOME1\n",
       ":   0.654053469128681LOCB\n",
       ":   0.998989251062105LOCC\n",
       ":   1.47614130522378LOCD\n",
       ":   1.46123532447719LOCE\n",
       ":   0.917761431519802LOCF\n",
       ":   0.902094934830047LOCG\n",
       ":   0.806742969761622LOCH\n",
       ":   0.945801909087099BUY12\n",
       ":   0.589774380312537BUY18\n",
       ":   2.11309429711678\n",
       "\n"
      ],
      "text/plain": [
       "(Intercept)         AGE    MARRIED1        FICO    OWNHOME1        LOCB \n",
       "  2.1851248   0.9625061   1.7163063   0.9971630   0.6540535   0.9989893 \n",
       "       LOCC        LOCD        LOCE        LOCF        LOCG        LOCH \n",
       "  1.4761413   1.4612353   0.9177614   0.9020949   0.8067430   0.9458019 \n",
       "      BUY12       BUY18 \n",
       "  0.5897744   2.1130943 "
      ]
     },
     "metadata": {},
     "output_type": "display_data"
    }
   ],
   "source": [
    "exp(out_step$coefficients)"
   ]
  },
  {
   "cell_type": "markdown",
   "metadata": {},
   "source": [
    "계수가 음수인 것들은 1보다 작음."
   ]
  },
  {
   "cell_type": "markdown",
   "metadata": {},
   "source": [
    "## validation"
   ]
  },
  {
   "cell_type": "code",
   "execution_count": 15,
   "metadata": {
    "ExecuteTime": {
     "end_time": "2021-04-17T12:15:37.474391Z",
     "start_time": "2021-04-17T12:15:37.438Z"
    }
   },
   "outputs": [],
   "source": [
    "p_train=predict(out_step,trainData, type=\"response\")\n",
    "p_test=predict(out_step, newdata=testData, type=\"response\")"
   ]
  },
  {
   "cell_type": "code",
   "execution_count": 18,
   "metadata": {
    "ExecuteTime": {
     "end_time": "2021-04-17T12:18:42.355652Z",
     "start_time": "2021-04-17T12:18:42.224Z"
    }
   },
   "outputs": [
    {
     "data": {
      "text/plain": [
       "   \n",
       "    FALSE TRUE\n",
       "  0  6303    1\n",
       "  1   540    0"
      ]
     },
     "metadata": {},
     "output_type": "display_data"
    },
    {
     "data": {
      "text/plain": [
       "   \n",
       "    FALSE TRUE\n",
       "  0  5065 1239\n",
       "  1   312  228"
      ]
     },
     "metadata": {},
     "output_type": "display_data"
    },
    {
     "data": {
      "text/plain": [
       "   \n",
       "    FALSE TRUE\n",
       "  0  2173  521\n",
       "  1   120   69"
      ]
     },
     "metadata": {},
     "output_type": "display_data"
    }
   ],
   "source": [
    "table(trainData$RESPOND,p_train>0.5)\n",
    "table(trainData$RESPOND,p_train>0.1)\n",
    "table(testData$RESPOND,p_test>0.1)"
   ]
  },
  {
   "cell_type": "markdown",
   "metadata": {},
   "source": [
    "threshold를 0.5로 했을 경우 거의 대부분이 FALSE로 나오므로 변화를 주어 0.5로 바꾸고 test에 적용한 교차표"
   ]
  },
  {
   "cell_type": "code",
   "execution_count": null,
   "metadata": {},
   "outputs": [],
   "source": []
  }
 ],
 "metadata": {
  "kernelspec": {
   "display_name": "R",
   "language": "R",
   "name": "ir"
  },
  "language_info": {
   "codemirror_mode": "r",
   "file_extension": ".r",
   "mimetype": "text/x-r-source",
   "name": "R",
   "pygments_lexer": "r",
   "version": "3.6.3"
  },
  "toc": {
   "base_numbering": 1,
   "nav_menu": {},
   "number_sections": true,
   "sideBar": true,
   "skip_h1_title": false,
   "title_cell": "Table of Contents",
   "title_sidebar": "Contents",
   "toc_cell": false,
   "toc_position": {},
   "toc_section_display": true,
   "toc_window_display": true
  }
 },
 "nbformat": 4,
 "nbformat_minor": 4
}
