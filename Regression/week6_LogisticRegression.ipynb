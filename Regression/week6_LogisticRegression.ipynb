{
 "cells": [
  {
   "cell_type": "markdown",
   "metadata": {},
   "source": [
    "# 로지스틱 회귀분석의 이론"
   ]
  },
  {
   "cell_type": "markdown",
   "metadata": {},
   "source": [
    "판별분석은 독립변수들이 다변량 정규분포를 따라야 한다는 가정이 필요하다.<br>\n",
    "따라서 독립변수들이 이러한 가정을 따르지 않고 이산형과 연속형의 혼합인 경우 classification에 적합한 것이 로지스틱 회귀이다. "
   ]
  },
  {
   "cell_type": "markdown",
   "metadata": {
    "ExecuteTime": {
     "end_time": "2021-04-17T11:17:11.252514Z",
     "start_time": "2021-04-17T11:17:11.221Z"
    }
   },
   "source": [
    "$$0 < p < 1$$"
   ]
  },
  {
   "cell_type": "markdown",
   "metadata": {},
   "source": [
    "0과 1인 이산형이므로 회귀를 적용할 수 없기 때문에 로지스틱 함수를 씌워주어 연속적인 값을 만들어 회귀할 수 있게 만든다."
   ]
  },
  {
   "cell_type": "markdown",
   "metadata": {
    "ExecuteTime": {
     "end_time": "2021-04-17T11:17:20.284285Z",
     "start_time": "2021-04-17T11:17:20.228Z"
    }
   },
   "source": [
    "$$0 < \\frac{p}{1-p} < \\infty$$"
   ]
  },
  {
   "cell_type": "markdown",
   "metadata": {
    "ExecuteTime": {
     "end_time": "2021-04-17T11:17:30.949498Z",
     "start_time": "2021-04-17T11:17:30.925Z"
    }
   },
   "source": [
    "0에서 무한대의 범위이므로 로그를 씌워 범위를 확장시킨다."
   ]
  },
  {
   "cell_type": "markdown",
   "metadata": {
    "ExecuteTime": {
     "end_time": "2021-04-17T11:17:43.308167Z",
     "start_time": "2021-04-17T11:17:43.284Z"
    }
   },
   "source": [
    "$$-\\infty < log(\\frac{p}{1-p}) < \\infty$$"
   ]
  },
  {
   "cell_type": "markdown",
   "metadata": {},
   "source": [
    "$$\\hat{y} = log(\\frac{p}{1-p}) = \\beta_0 + \\beta_1x$$"
   ]
  },
  {
   "cell_type": "markdown",
   "metadata": {},
   "source": [
    "이렇게 y가 회귀식을 통해 추정될 수 있게 되었다. 그러나 실제 추정할 값은 p이므로 p를 기준으로 식을 풀어준다."
   ]
  },
  {
   "cell_type": "markdown",
   "metadata": {},
   "source": [
    "$$p = {e^{\\beta_0+\\beta_1x} \\over 1 + e^{\\beta_0+\\beta_1x}}$$"
   ]
  },
  {
   "cell_type": "markdown",
   "metadata": {},
   "source": [
    "이렇게 로지스틱 회귀 방정식이 되었다."
   ]
  },
  {
   "cell_type": "markdown",
   "metadata": {},
   "source": [
    "여기서 $\\frac{p}{1-p}$를 오즈 odds라고 하며 개체와 개체의 오즈의 비를 살펴 보게 된다."
   ]
  },
  {
   "cell_type": "markdown",
   "metadata": {
    "ExecuteTime": {
     "end_time": "2021-04-17T11:22:01.463119Z",
     "start_time": "2021-04-17T11:22:01.432Z"
    }
   },
   "source": [
    "$$OddsRate = \\frac{\\frac{1-p_i}{p_i}}{\\frac{1-p_j}{p_j}}$$"
   ]
  },
  {
   "cell_type": "markdown",
   "metadata": {},
   "source": [
    "오즈 비는 독립 변수가 한 단위 증가할 때 y는 얼마나 증가하는가."
   ]
  },
  {
   "cell_type": "markdown",
   "metadata": {},
   "source": [
    "# HMEQ Data Logistic Regression"
   ]
  },
  {
   "cell_type": "code",
   "execution_count": 8,
   "metadata": {
    "ExecuteTime": {
     "end_time": "2021-04-17T11:25:19.565528Z",
     "start_time": "2021-04-17T11:25:19.470Z"
    }
   },
   "outputs": [
    {
     "name": "stdout",
     "output_type": "stream",
     "text": [
      "'data.frame':\t5960 obs. of  13 variables:\n",
      " $ BAD    : int  1 1 1 1 0 1 1 1 1 1 ...\n",
      " $ LOAN   : int  1100 1300 1500 1500 1700 1700 1800 1800 2000 2000 ...\n",
      " $ MORTDUE: num  25860 70053 13500 NA 97800 ...\n",
      " $ VALUE  : num  39025 68400 16700 NA 112000 ...\n",
      " $ REASON : Factor w/ 3 levels \"\",\"DebtCon\",\"HomeImp\": 3 3 3 1 3 3 3 3 3 3 ...\n",
      " $ JOB    : Factor w/ 7 levels \"\",\"Mgr\",\"Office\",..: 4 4 4 1 3 4 4 4 4 6 ...\n",
      " $ YOJ    : num  10.5 7 4 NA 3 9 5 11 3 16 ...\n",
      " $ DEROG  : int  0 0 0 NA 0 0 3 0 0 0 ...\n",
      " $ DELINQ : int  0 2 0 NA 0 0 2 0 2 0 ...\n",
      " $ CLAGE  : num  94.4 121.8 149.5 NA 93.3 ...\n",
      " $ NINQ   : int  1 0 1 NA 0 1 1 0 1 0 ...\n",
      " $ CLNO   : int  9 14 10 NA 14 8 17 8 12 13 ...\n",
      " $ DEBTINC: num  NA NA NA NA NA ...\n"
     ]
    }
   ],
   "source": [
    "hmeq=read.csv(\"hmeq.csv\",header = T)\n",
    "str(hmeq)\n",
    "attach(hmeq)"
   ]
  },
  {
   "cell_type": "markdown",
   "metadata": {},
   "source": [
    "## split data "
   ]
  },
  {
   "cell_type": "code",
   "execution_count": 9,
   "metadata": {
    "ExecuteTime": {
     "end_time": "2021-04-17T11:25:33.662294Z",
     "start_time": "2021-04-17T11:25:33.613Z"
    }
   },
   "outputs": [
    {
     "data": {
      "text/html": [
       "<ol class=list-inline>\n",
       "\t<li>4201</li>\n",
       "\t<li>13</li>\n",
       "</ol>\n"
      ],
      "text/latex": [
       "\\begin{enumerate*}\n",
       "\\item 4201\n",
       "\\item 13\n",
       "\\end{enumerate*}\n"
      ],
      "text/markdown": [
       "1. 4201\n",
       "2. 13\n",
       "\n",
       "\n"
      ],
      "text/plain": [
       "[1] 4201   13"
      ]
     },
     "metadata": {},
     "output_type": "display_data"
    },
    {
     "data": {
      "text/html": [
       "<ol class=list-inline>\n",
       "\t<li>1759</li>\n",
       "\t<li>13</li>\n",
       "</ol>\n"
      ],
      "text/latex": [
       "\\begin{enumerate*}\n",
       "\\item 1759\n",
       "\\item 13\n",
       "\\end{enumerate*}\n"
      ],
      "text/markdown": [
       "1. 1759\n",
       "2. 13\n",
       "\n",
       "\n"
      ],
      "text/plain": [
       "[1] 1759   13"
      ]
     },
     "metadata": {},
     "output_type": "display_data"
    }
   ],
   "source": [
    "set.seed(1234) \n",
    "ind <- sample(2, nrow(hmeq), replace=TRUE, prob=c(0.7, 0.3))\n",
    "trainData <- hmeq[ind==1,];dim(trainData)\n",
    "testData <- hmeq[ind==2,] ;dim(testData)"
   ]
  },
  {
   "cell_type": "markdown",
   "metadata": {},
   "source": [
    "## 모델 생성 "
   ]
  },
  {
   "cell_type": "code",
   "execution_count": 10,
   "metadata": {
    "ExecuteTime": {
     "end_time": "2021-04-17T11:25:45.628696Z",
     "start_time": "2021-04-17T11:25:45.534Z"
    }
   },
   "outputs": [
    {
     "data": {
      "text/plain": [
       "\n",
       "Call:\n",
       "glm(formula = BAD ~ ., family = binomial, data = trainData)\n",
       "\n",
       "Deviance Residuals: \n",
       "    Min       1Q   Median       3Q      Max  \n",
       "-1.6465  -0.3817  -0.2672  -0.1693   3.5824  \n",
       "\n",
       "Coefficients:\n",
       "                Estimate Std. Error z value Pr(>|z|)    \n",
       "(Intercept)   -6.693e+00  1.495e+00  -4.476 7.59e-06 ***\n",
       "LOAN          -2.735e-05  1.022e-05  -2.678 0.007413 ** \n",
       "MORTDUE       -5.556e-06  4.562e-06  -1.218 0.223258    \n",
       "VALUE          6.947e-06  3.916e-06   1.774 0.076071 .  \n",
       "REASONDebtCon -7.804e-01  6.030e-01  -1.294 0.195601    \n",
       "REASONHomeImp -9.490e-01  6.165e-01  -1.539 0.123691    \n",
       "JOBMgr         2.139e+00  1.299e+00   1.646 0.099663 .  \n",
       "JOBOffice      1.218e+00  1.307e+00   0.932 0.351342    \n",
       "JOBOther       1.923e+00  1.289e+00   1.493 0.135549    \n",
       "JOBProfExe     1.988e+00  1.298e+00   1.532 0.125468    \n",
       "JOBSales       3.463e+00  1.353e+00   2.560 0.010469 *  \n",
       "JOBSelf        2.949e+00  1.356e+00   2.175 0.029607 *  \n",
       "YOJ           -2.027e-02  1.230e-02  -1.648 0.099291 .  \n",
       "DEROG          8.669e-01  1.209e-01   7.171 7.43e-13 ***\n",
       "DELINQ         6.872e-01  8.595e-02   7.996 1.29e-15 ***\n",
       "CLAGE         -4.457e-03  1.245e-03  -3.580 0.000343 ***\n",
       "NINQ           1.578e-01  4.608e-02   3.424 0.000617 ***\n",
       "CLNO          -1.999e-02  9.853e-03  -2.028 0.042511 *  \n",
       "DEBTINC        1.109e-01  1.247e-02   8.895  < 2e-16 ***\n",
       "---\n",
       "Signif. codes:  0 ‘***’ 0.001 ‘**’ 0.01 ‘*’ 0.05 ‘.’ 0.1 ‘ ’ 1\n",
       "\n",
       "(Dispersion parameter for binomial family taken to be 1)\n",
       "\n",
       "    Null deviance: 1445.9  on 2493  degrees of freedom\n",
       "Residual deviance: 1070.9  on 2475  degrees of freedom\n",
       "  (1707 observations deleted due to missingness)\n",
       "AIC: 1108.9\n",
       "\n",
       "Number of Fisher Scoring iterations: 7\n"
      ]
     },
     "metadata": {},
     "output_type": "display_data"
    }
   ],
   "source": [
    "out=glm(BAD~., family=binomial, data=trainData)\n",
    "summary(out)"
   ]
  },
  {
   "cell_type": "markdown",
   "metadata": {},
   "source": [
    "family = binomial로 지정하는데 예측할 것이 이진 데이터이기 때문이다."
   ]
  },
  {
   "cell_type": "code",
   "execution_count": 11,
   "metadata": {
    "ExecuteTime": {
     "end_time": "2021-04-17T11:28:59.821689Z",
     "start_time": "2021-04-17T11:28:59.773Z"
    }
   },
   "outputs": [
    {
     "data": {
      "text/html": [
       "1.98814093782565"
      ],
      "text/latex": [
       "1.98814093782565"
      ],
      "text/markdown": [
       "1.98814093782565"
      ],
      "text/plain": [
       "[1] 1.988141"
      ]
     },
     "metadata": {},
     "output_type": "display_data"
    }
   ],
   "source": [
    "exp(6.872e-01)"
   ]
  },
  {
   "cell_type": "markdown",
   "metadata": {},
   "source": [
    "계수를 해석할 때는 베타 값에 지수를 씌워야한다."
   ]
  },
  {
   "cell_type": "code",
   "execution_count": null,
   "metadata": {},
   "outputs": [],
   "source": []
  }
 ],
 "metadata": {
  "kernelspec": {
   "display_name": "R",
   "language": "R",
   "name": "ir"
  },
  "language_info": {
   "codemirror_mode": "r",
   "file_extension": ".r",
   "mimetype": "text/x-r-source",
   "name": "R",
   "pygments_lexer": "r",
   "version": "3.6.3"
  },
  "toc": {
   "base_numbering": 1,
   "nav_menu": {},
   "number_sections": true,
   "sideBar": true,
   "skip_h1_title": false,
   "title_cell": "Table of Contents",
   "title_sidebar": "Contents",
   "toc_cell": false,
   "toc_position": {
    "height": "calc(100% - 180px)",
    "left": "10px",
    "top": "150px",
    "width": "307.2px"
   },
   "toc_section_display": true,
   "toc_window_display": true
  }
 },
 "nbformat": 4,
 "nbformat_minor": 4
}
