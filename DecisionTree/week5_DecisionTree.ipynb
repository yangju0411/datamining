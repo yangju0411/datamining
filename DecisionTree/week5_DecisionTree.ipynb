{
 "cells": [
  {
   "cell_type": "code",
   "execution_count": 16,
   "metadata": {
    "ExecuteTime": {
     "end_time": "2021-04-16T14:51:36.000010Z",
     "start_time": "2021-04-16T14:51:35.929Z"
    }
   },
   "outputs": [],
   "source": [
    "library(tree)\n",
    "library(rpart)\n",
    "library(rpart.plot)\n",
    "library(caret)"
   ]
  },
  {
   "cell_type": "markdown",
   "metadata": {},
   "source": [
    "# HMEQ Data Classification"
   ]
  },
  {
   "cell_type": "markdown",
   "metadata": {},
   "source": [
    "## 데이터 불러오기 "
   ]
  },
  {
   "cell_type": "code",
   "execution_count": 2,
   "metadata": {
    "ExecuteTime": {
     "end_time": "2021-04-16T08:02:41.668871Z",
     "start_time": "2021-04-16T08:02:41.559Z"
    }
   },
   "outputs": [],
   "source": [
    "hmeq <- read.csv(\"hmeq-1.csv\", header = T)"
   ]
  },
  {
   "cell_type": "code",
   "execution_count": 3,
   "metadata": {
    "ExecuteTime": {
     "end_time": "2021-04-16T08:02:46.072259Z",
     "start_time": "2021-04-16T08:02:46.031Z"
    }
   },
   "outputs": [
    {
     "name": "stdout",
     "output_type": "stream",
     "text": [
      "'data.frame':\t5960 obs. of  13 variables:\n",
      " $ BAD    : int  1 1 1 1 0 1 1 1 1 1 ...\n",
      " $ LOAN   : int  1100 1300 1500 1500 1700 1700 1800 1800 2000 2000 ...\n",
      " $ MORTDUE: num  25860 70053 13500 NA 97800 ...\n",
      " $ VALUE  : num  39025 68400 16700 NA 112000 ...\n",
      " $ REASON : Factor w/ 3 levels \"\",\"DebtCon\",\"HomeImp\": 3 3 3 1 3 3 3 3 3 3 ...\n",
      " $ JOB    : Factor w/ 7 levels \"\",\"Mgr\",\"Office\",..: 4 4 4 1 3 4 4 4 4 6 ...\n",
      " $ YOJ    : num  10.5 7 4 NA 3 9 5 11 3 16 ...\n",
      " $ DEROG  : int  0 0 0 NA 0 0 3 0 0 0 ...\n",
      " $ DELINQ : int  0 2 0 NA 0 0 2 0 2 0 ...\n",
      " $ CLAGE  : num  94.4 121.8 149.5 NA 93.3 ...\n",
      " $ NINQ   : int  1 0 1 NA 0 1 1 0 1 0 ...\n",
      " $ CLNO   : int  9 14 10 NA 14 8 17 8 12 13 ...\n",
      " $ DEBTINC: num  NA NA NA NA NA ...\n"
     ]
    }
   ],
   "source": [
    "str(hmeq)"
   ]
  },
  {
   "cell_type": "code",
   "execution_count": 4,
   "metadata": {
    "ExecuteTime": {
     "end_time": "2021-04-16T08:02:55.159386Z",
     "start_time": "2021-04-16T08:02:55.128Z"
    }
   },
   "outputs": [
    {
     "data": {
      "text/html": [
       "<ol class=list-inline>\n",
       "\t<li>5960</li>\n",
       "\t<li>13</li>\n",
       "</ol>\n"
      ],
      "text/latex": [
       "\\begin{enumerate*}\n",
       "\\item 5960\n",
       "\\item 13\n",
       "\\end{enumerate*}\n"
      ],
      "text/markdown": [
       "1. 5960\n",
       "2. 13\n",
       "\n",
       "\n"
      ],
      "text/plain": [
       "[1] 5960   13"
      ]
     },
     "metadata": {},
     "output_type": "display_data"
    }
   ],
   "source": [
    "dim(hmeq)"
   ]
  },
  {
   "cell_type": "code",
   "execution_count": 5,
   "metadata": {
    "ExecuteTime": {
     "end_time": "2021-04-16T08:03:01.562345Z",
     "start_time": "2021-04-16T08:03:01.534Z"
    }
   },
   "outputs": [],
   "source": [
    "attach(hmeq)"
   ]
  },
  {
   "cell_type": "code",
   "execution_count": 6,
   "metadata": {
    "ExecuteTime": {
     "end_time": "2021-04-16T08:03:31.135937Z",
     "start_time": "2021-04-16T08:03:31.111Z"
    }
   },
   "outputs": [],
   "source": [
    "hmeq$BAD <- as.factor(hmeq$BAD)"
   ]
  },
  {
   "cell_type": "markdown",
   "metadata": {},
   "source": [
    "팩터로 변환"
   ]
  },
  {
   "cell_type": "code",
   "execution_count": 7,
   "metadata": {
    "ExecuteTime": {
     "end_time": "2021-04-16T08:03:53.791386Z",
     "start_time": "2021-04-16T08:03:53.735Z"
    }
   },
   "outputs": [
    {
     "data": {
      "text/plain": [
       "BAD: 0\n",
       " BAD           LOAN          MORTDUE           VALUE            REASON    \n",
       " 0:4771   Min.   : 1700   Min.   :  2619   Min.   :  8000          : 204  \n",
       " 1:   0   1st Qu.:11700   1st Qu.: 47484   1st Qu.: 67298   DebtCon:3183  \n",
       "          Median :16900   Median : 66839   Median : 90659   HomeImp:1384  \n",
       "          Mean   :19028   Mean   : 74829   Mean   :102596                 \n",
       "          3rd Qu.:23500   3rd Qu.: 93068   3rd Qu.:120616                 \n",
       "          Max.   :89900   Max.   :371003   Max.   :471827                 \n",
       "                          NA's   :412      NA's   :7                      \n",
       "      JOB            YOJ             DEROG            DELINQ      \n",
       "        : 256   Min.   : 0.000   Min.   :0.0000   Min.   :0.0000  \n",
       " Mgr    : 588   1st Qu.: 3.000   1st Qu.:0.0000   1st Qu.:0.0000  \n",
       " Office : 823   Median : 7.000   Median :0.0000   Median :0.0000  \n",
       " Other  :1834   Mean   : 9.155   Mean   :0.1342   Mean   :0.2451  \n",
       " ProfExe:1064   3rd Qu.:13.000   3rd Qu.:0.0000   3rd Qu.:0.0000  \n",
       " Sales  :  71   Max.   :36.000   Max.   :6.0000   Max.   :5.0000  \n",
       " Self   : 135   NA's   :450      NA's   :621      NA's   :508     \n",
       "     CLAGE               NINQ             CLNO          DEBTINC       \n",
       " Min.   :  0.4867   Min.   : 0.000   Min.   : 0.00   Min.   : 0.7203  \n",
       " 1st Qu.:120.2199   1st Qu.: 0.000   1st Qu.:15.00   1st Qu.:28.9051  \n",
       " Median :180.4158   Median : 1.000   Median :20.00   Median :34.5417  \n",
       " Mean   :187.0024   Mean   : 1.033   Mean   :21.32   Mean   :33.2531  \n",
       " 3rd Qu.:240.1578   3rd Qu.: 2.000   3rd Qu.:26.00   3rd Qu.:38.7391  \n",
       " Max.   :649.7471   Max.   :11.000   Max.   :56.00   Max.   :45.5698  \n",
       " NA's   :230        NA's   :435      NA's   :169     NA's   :481      \n",
       "------------------------------------------------------------ \n",
       "BAD: 1\n",
       " BAD           LOAN          MORTDUE           VALUE            REASON   \n",
       " 0:   0   Min.   : 1100   Min.   :  2063   Min.   :  8800          : 48  \n",
       " 1:1189   1st Qu.: 9200   1st Qu.: 39946   1st Qu.: 59368   DebtCon:745  \n",
       "          Median :14900   Median : 60279   Median : 82000   HomeImp:396  \n",
       "          Mean   :16922   Mean   : 69460   Mean   : 98173                \n",
       "          3rd Qu.:21700   3rd Qu.: 85864   3rd Qu.:116000                \n",
       "          Max.   :77400   Max.   :399550   Max.   :855909                \n",
       "                          NA's   :106      NA's   :105                   \n",
       "      JOB           YOJ             DEROG             DELINQ      \n",
       "        : 23   Min.   : 0.000   Min.   : 0.0000   Min.   : 0.000  \n",
       " Mgr    :179   1st Qu.: 2.000   1st Qu.: 0.0000   1st Qu.: 0.000  \n",
       " Office :125   Median : 6.000   Median : 0.0000   Median : 0.000  \n",
       " Other  :554   Mean   : 8.028   Mean   : 0.7078   Mean   : 1.229  \n",
       " ProfExe:212   3rd Qu.:12.000   3rd Qu.: 1.0000   3rd Qu.: 2.000  \n",
       " Sales  : 38   Max.   :41.000   Max.   :10.0000   Max.   :15.000  \n",
       " Self   : 58   NA's   :65       NA's   :87        NA's   :72      \n",
       "     CLAGE              NINQ             CLNO          DEBTINC        \n",
       " Min.   :   0.00   Min.   : 0.000   Min.   : 0.00   Min.   :  0.5245  \n",
       " 1st Qu.:  96.03   1st Qu.: 0.000   1st Qu.:13.00   1st Qu.: 32.3830  \n",
       " Median : 132.87   Median : 1.000   Median :20.00   Median : 38.0798  \n",
       " Mean   : 150.19   Mean   : 1.783   Mean   :21.21   Mean   : 39.3876  \n",
       " 3rd Qu.: 193.28   3rd Qu.: 3.000   3rd Qu.:28.00   3rd Qu.: 43.2860  \n",
       " Max.   :1168.23   Max.   :17.000   Max.   :71.00   Max.   :203.3121  \n",
       " NA's   :78        NA's   :75       NA's   :53      NA's   :786       "
      ]
     },
     "metadata": {},
     "output_type": "display_data"
    }
   ],
   "source": [
    "by(hmeq, BAD, summary)"
   ]
  },
  {
   "cell_type": "markdown",
   "metadata": {},
   "source": [
    "BAD의 그룹에 따른  summary"
   ]
  },
  {
   "cell_type": "code",
   "execution_count": 8,
   "metadata": {
    "ExecuteTime": {
     "end_time": "2021-04-16T08:07:06.422767Z",
     "start_time": "2021-04-16T08:07:05.759Z"
    }
   },
   "outputs": [
    {
     "data": {
      "image/png": "[encoded data removed]",
      "text/plain": [
       "plot without title"
      ]
     },
     "metadata": {
      "image/png": {
       "height": 420,
       "width": 420
      }
     },
     "output_type": "display_data"
    },
    {
     "data": {
      "image/png": "[encoded data removed]",
      "text/plain": [
       "plot without title"
      ]
     },
     "metadata": {
      "image/png": {
       "height": 420,
       "width": 420
      }
     },
     "output_type": "display_data"
    }
   ],
   "source": [
    "boxplot(hmeq$DEBTINC~hmeq$BAD, col=\"Blue\")\n",
    "barplot(table(hmeq$BAD, hmeq$REASON))"
   ]
  },
  {
   "cell_type": "markdown",
   "metadata": {},
   "source": [
    "## 데이터 분리 "
   ]
  },
  {
   "cell_type": "code",
   "execution_count": 9,
   "metadata": {
    "ExecuteTime": {
     "end_time": "2021-04-16T08:09:17.754479Z",
     "start_time": "2021-04-16T08:09:17.688Z"
    }
   },
   "outputs": [
    {
     "data": {
      "text/html": [
       "<ol class=list-inline>\n",
       "\t<li>4201</li>\n",
       "\t<li>13</li>\n",
       "</ol>\n"
      ],
      "text/latex": [
       "\\begin{enumerate*}\n",
       "\\item 4201\n",
       "\\item 13\n",
       "\\end{enumerate*}\n"
      ],
      "text/markdown": [
       "1. 4201\n",
       "2. 13\n",
       "\n",
       "\n"
      ],
      "text/plain": [
       "[1] 4201   13"
      ]
     },
     "metadata": {},
     "output_type": "display_data"
    },
    {
     "data": {
      "text/html": [
       "<ol class=list-inline>\n",
       "\t<li>1759</li>\n",
       "\t<li>13</li>\n",
       "</ol>\n"
      ],
      "text/latex": [
       "\\begin{enumerate*}\n",
       "\\item 1759\n",
       "\\item 13\n",
       "\\end{enumerate*}\n"
      ],
      "text/markdown": [
       "1. 1759\n",
       "2. 13\n",
       "\n",
       "\n"
      ],
      "text/plain": [
       "[1] 1759   13"
      ]
     },
     "metadata": {},
     "output_type": "display_data"
    }
   ],
   "source": [
    "set.seed(1234) \n",
    "ind <- sample(2, nrow(hmeq), replace=TRUE, prob=c(0.7, 0.3))\n",
    "trainData <- hmeq[ind==1,];dim(trainData)\n",
    "testData <- hmeq[ind==2,] ;dim(testData)"
   ]
  },
  {
   "cell_type": "markdown",
   "metadata": {},
   "source": [
    "## 모델 학습 "
   ]
  },
  {
   "cell_type": "code",
   "execution_count": 10,
   "metadata": {
    "ExecuteTime": {
     "end_time": "2021-04-16T08:09:45.326091Z",
     "start_time": "2021-04-16T08:09:45.240Z"
    }
   },
   "outputs": [],
   "source": [
    "hmeq_train <- tree(BAD~., data=trainData)"
   ]
  },
  {
   "cell_type": "code",
   "execution_count": 12,
   "metadata": {
    "ExecuteTime": {
     "end_time": "2021-04-16T08:10:19.582305Z",
     "start_time": "2021-04-16T08:10:19.552Z"
    }
   },
   "outputs": [
    {
     "data": {
      "text/plain": [
       "\n",
       "Classification tree:\n",
       "tree(formula = BAD ~ ., data = trainData)\n",
       "Variables actually used in tree construction:\n",
       "[1] \"DEBTINC\" \"DELINQ\"  \"DEROG\"   \"VALUE\"   \"LOAN\"    \"CLAGE\"   \"JOB\"    \n",
       "[8] \"NINQ\"   \n",
       "Number of terminal nodes:  13 \n",
       "Residual mean deviance:  0.3464 = 859.5 / 2481 \n",
       "Misclassification error rate: 0.05172 = 129 / 2494 "
      ]
     },
     "metadata": {},
     "output_type": "display_data"
    }
   ],
   "source": [
    "summary(hmeq_train)"
   ]
  },
  {
   "cell_type": "code",
   "execution_count": 13,
   "metadata": {
    "ExecuteTime": {
     "end_time": "2021-04-16T08:10:25.811612Z",
     "start_time": "2021-04-16T08:10:25.760Z"
    }
   },
   "outputs": [
    {
     "data": {
      "text/plain": [
       "node), split, n, deviance, yval, (yprob)\n",
       "      * denotes terminal node\n",
       "\n",
       "  1) root 2494 1446.000 0 ( 0.91540 0.08460 )  \n",
       "    2) DEBTINC < 43.7045 2414 1108.000 0 ( 0.93911 0.06089 )  \n",
       "      4) DELINQ < 4.5 2404 1051.000 0 ( 0.94301 0.05699 )  \n",
       "        8) DEROG < 1.5 2333  928.300 0 ( 0.94985 0.05015 )  \n",
       "         16) VALUE < 48580.5 138  133.600 0 ( 0.81159 0.18841 )  \n",
       "           32) LOAN < 12750 55   74.770 0 ( 0.58182 0.41818 ) *\n",
       "           33) LOAN > 12750 83   25.810 0 ( 0.96386 0.03614 ) *\n",
       "         17) VALUE > 48580.5 2195  757.500 0 ( 0.95854 0.04146 )  \n",
       "           34) CLAGE < 109.268 376  223.600 0 ( 0.91223 0.08777 )  \n",
       "             68) JOB: ,Mgr,Office,Other,ProfExe 371  198.500 0 ( 0.92453 0.07547 )  \n",
       "              136) NINQ < 3.5 347  147.300 0 ( 0.94524 0.05476 ) *\n",
       "              137) NINQ > 3.5 24   31.760 0 ( 0.62500 0.37500 )  \n",
       "                274) JOB: Mgr,ProfExe 13    0.000 0 ( 1.00000 0.00000 ) *\n",
       "                275) JOB: Office,Other 11   10.430 1 ( 0.18182 0.81818 ) *\n",
       "             69) JOB: Sales,Self 5    0.000 1 ( 0.00000 1.00000 ) *\n",
       "           35) CLAGE > 109.268 1819  513.800 0 ( 0.96811 0.03189 )  \n",
       "             70) DELINQ < 0.5 1540  334.100 0 ( 0.97727 0.02273 ) *\n",
       "             71) DELINQ > 0.5 279  158.900 0 ( 0.91756 0.08244 ) *\n",
       "        9) DEROG > 1.5 71   84.430 0 ( 0.71831 0.28169 ) *\n",
       "      5) DELINQ > 4.5 10    0.000 1 ( 0.00000 1.00000 ) *\n",
       "    3) DEBTINC > 43.7045 80   80.060 1 ( 0.20000 0.80000 )  \n",
       "      6) DEBTINC < 45.6569 33   45.720 1 ( 0.48485 0.51515 )  \n",
       "       12) CLAGE < 233.316 19   16.570 1 ( 0.15789 0.84211 ) *\n",
       "       13) CLAGE > 233.316 14    7.205 0 ( 0.92857 0.07143 ) *\n",
       "      7) DEBTINC > 45.6569 47    0.000 1 ( 0.00000 1.00000 ) *"
      ]
     },
     "metadata": {},
     "output_type": "display_data"
    }
   ],
   "source": [
    "hmeq_train"
   ]
  },
  {
   "cell_type": "code",
   "execution_count": 14,
   "metadata": {
    "ExecuteTime": {
     "end_time": "2021-04-16T08:10:28.550454Z",
     "start_time": "2021-04-16T08:10:28.439Z"
    }
   },
   "outputs": [
    {
     "data": {
      "image/png": "[encoded data removed]",
      "text/plain": [
       "plot without title"
      ]
     },
     "metadata": {
      "image/png": {
       "height": 420,
       "width": 420
      }
     },
     "output_type": "display_data"
    }
   ],
   "source": [
    "plot(hmeq_train)\n",
    "text(hmeq_train)"
   ]
  },
  {
   "cell_type": "markdown",
   "metadata": {},
   "source": [
    "## 가지치기 "
   ]
  },
  {
   "cell_type": "code",
   "execution_count": 15,
   "metadata": {
    "ExecuteTime": {
     "end_time": "2021-04-16T08:14:00.236793Z",
     "start_time": "2021-04-16T08:14:00.208Z"
    }
   },
   "outputs": [],
   "source": [
    "hmeq.train1=prune.misclass(hmeq_train)"
   ]
  },
  {
   "cell_type": "code",
   "execution_count": 16,
   "metadata": {
    "ExecuteTime": {
     "end_time": "2021-04-16T08:14:07.035651Z",
     "start_time": "2021-04-16T08:14:06.944Z"
    }
   },
   "outputs": [
    {
     "data": {
      "image/png": "[encoded data removed]",
      "text/plain": [
       "plot without title"
      ]
     },
     "metadata": {
      "image/png": {
       "height": 420,
       "width": 420
      }
     },
     "output_type": "display_data"
    }
   ],
   "source": [
    "plot(hmeq.train1)"
   ]
  },
  {
   "cell_type": "markdown",
   "metadata": {},
   "source": [
    " 6부터 큰 변화가 없으므로 6 정도가 적절할 것으로 보인다"
   ]
  },
  {
   "cell_type": "code",
   "execution_count": 17,
   "metadata": {
    "ExecuteTime": {
     "end_time": "2021-04-16T08:14:35.787966Z",
     "start_time": "2021-04-16T08:14:35.761Z"
    }
   },
   "outputs": [],
   "source": [
    "fin.train=prune.misclass(hmeq_train, best=6)"
   ]
  },
  {
   "cell_type": "code",
   "execution_count": 18,
   "metadata": {
    "ExecuteTime": {
     "end_time": "2021-04-16T08:15:02.823290Z",
     "start_time": "2021-04-16T08:15:02.719Z"
    }
   },
   "outputs": [
    {
     "data": {
      "image/png": "[encoded data removed]",
      "text/plain": [
       "plot without title"
      ]
     },
     "metadata": {
      "image/png": {
       "height": 420,
       "width": 420
      }
     },
     "output_type": "display_data"
    }
   ],
   "source": [
    "plot(fin.train)\n",
    "text(fin.train, all=T)"
   ]
  },
  {
   "cell_type": "code",
   "execution_count": 19,
   "metadata": {
    "ExecuteTime": {
     "end_time": "2021-04-16T08:15:09.607794Z",
     "start_time": "2021-04-16T08:15:09.552Z"
    }
   },
   "outputs": [
    {
     "data": {
      "text/plain": [
       "\n",
       "Classification tree:\n",
       "snip.tree(tree = hmeq_train, nodes = c(16L, 35L))\n",
       "Variables actually used in tree construction:\n",
       "[1] \"DEBTINC\" \"DELINQ\"  \"DEROG\"   \"VALUE\"   \"CLAGE\"   \"JOB\"     \"NINQ\"   \n",
       "Number of terminal nodes:  11 \n",
       "Residual mean deviance:  0.3678 = 913.3 / 2483 \n",
       "Misclassification error rate: 0.05172 = 129 / 2494 "
      ]
     },
     "metadata": {},
     "output_type": "display_data"
    }
   ],
   "source": [
    "summary(fin.train)"
   ]
  },
  {
   "cell_type": "code",
   "execution_count": 20,
   "metadata": {
    "ExecuteTime": {
     "end_time": "2021-04-16T08:15:15.966645Z",
     "start_time": "2021-04-16T08:15:15.935Z"
    }
   },
   "outputs": [
    {
     "data": {
      "text/plain": [
       "node), split, n, deviance, yval, (yprob)\n",
       "      * denotes terminal node\n",
       "\n",
       "  1) root 2494 1446.000 0 ( 0.91540 0.08460 )  \n",
       "    2) DEBTINC < 43.7045 2414 1108.000 0 ( 0.93911 0.06089 )  \n",
       "      4) DELINQ < 4.5 2404 1051.000 0 ( 0.94301 0.05699 )  \n",
       "        8) DEROG < 1.5 2333  928.300 0 ( 0.94985 0.05015 )  \n",
       "         16) VALUE < 48580.5 138  133.600 0 ( 0.81159 0.18841 ) *\n",
       "         17) VALUE > 48580.5 2195  757.500 0 ( 0.95854 0.04146 )  \n",
       "           34) CLAGE < 109.268 376  223.600 0 ( 0.91223 0.08777 )  \n",
       "             68) JOB: ,Mgr,Office,Other,ProfExe 371  198.500 0 ( 0.92453 0.07547 )  \n",
       "              136) NINQ < 3.5 347  147.300 0 ( 0.94524 0.05476 ) *\n",
       "              137) NINQ > 3.5 24   31.760 0 ( 0.62500 0.37500 )  \n",
       "                274) JOB: Mgr,ProfExe 13    0.000 0 ( 1.00000 0.00000 ) *\n",
       "                275) JOB: Office,Other 11   10.430 1 ( 0.18182 0.81818 ) *\n",
       "             69) JOB: Sales,Self 5    0.000 1 ( 0.00000 1.00000 ) *\n",
       "           35) CLAGE > 109.268 1819  513.800 0 ( 0.96811 0.03189 ) *\n",
       "        9) DEROG > 1.5 71   84.430 0 ( 0.71831 0.28169 ) *\n",
       "      5) DELINQ > 4.5 10    0.000 1 ( 0.00000 1.00000 ) *\n",
       "    3) DEBTINC > 43.7045 80   80.060 1 ( 0.20000 0.80000 )  \n",
       "      6) DEBTINC < 45.6569 33   45.720 1 ( 0.48485 0.51515 )  \n",
       "       12) CLAGE < 233.316 19   16.570 1 ( 0.15789 0.84211 ) *\n",
       "       13) CLAGE > 233.316 14    7.205 0 ( 0.92857 0.07143 ) *\n",
       "      7) DEBTINC > 45.6569 47    0.000 1 ( 0.00000 1.00000 ) *"
      ]
     },
     "metadata": {},
     "output_type": "display_data"
    }
   ],
   "source": [
    "fin.train"
   ]
  },
  {
   "cell_type": "markdown",
   "metadata": {},
   "source": [
    "## test data에 적용 "
   ]
  },
  {
   "cell_type": "code",
   "execution_count": 21,
   "metadata": {
    "ExecuteTime": {
     "end_time": "2021-04-16T08:17:34.013622Z",
     "start_time": "2021-04-16T08:17:33.929Z"
    }
   },
   "outputs": [
    {
     "data": {
      "text/plain": [
       "        \n",
       "testPred    0    1\n",
       "       0 1397  322\n",
       "       1    9   31"
      ]
     },
     "metadata": {},
     "output_type": "display_data"
    }
   ],
   "source": [
    "testPred <- predict(hmeq_train, newdata = testData, type=\"class\")\n",
    "table(testPred, testData$BAD)"
   ]
  },
  {
   "cell_type": "code",
   "execution_count": 23,
   "metadata": {
    "ExecuteTime": {
     "end_time": "2021-04-16T08:25:54.980106Z",
     "start_time": "2021-04-16T08:25:52.433Z"
    }
   },
   "outputs": [
    {
     "name": "stderr",
     "output_type": "stream",
     "text": [
      "Loading required package: lattice\n",
      "\n",
      "Loading required package: ggplot2\n",
      "\n"
     ]
    },
    {
     "data": {
      "text/plain": [
       "Confusion Matrix and Statistics\n",
       "\n",
       "          Reference\n",
       "Prediction    0    1\n",
       "         0 1397    9\n",
       "         1  322   31\n",
       "                                          \n",
       "               Accuracy : 0.8118          \n",
       "                 95% CI : (0.7928, 0.8298)\n",
       "    No Information Rate : 0.9773          \n",
       "    P-Value [Acc > NIR] : 1               \n",
       "                                          \n",
       "                  Kappa : 0.1219          \n",
       "                                          \n",
       " Mcnemar's Test P-Value : <2e-16          \n",
       "                                          \n",
       "            Sensitivity : 0.81268         \n",
       "            Specificity : 0.77500         \n",
       "         Pos Pred Value : 0.99360         \n",
       "         Neg Pred Value : 0.08782         \n",
       "             Prevalence : 0.97726         \n",
       "         Detection Rate : 0.79420         \n",
       "   Detection Prevalence : 0.79932         \n",
       "      Balanced Accuracy : 0.79384         \n",
       "                                          \n",
       "       'Positive' Class : 0               \n",
       "                                          "
      ]
     },
     "metadata": {},
     "output_type": "display_data"
    }
   ],
   "source": [
    "library(caret)\n",
    "confusionMatrix(testData$BAD, testPred)"
   ]
  },
  {
   "cell_type": "markdown",
   "metadata": {},
   "source": [
    "$$ Accuracy = \\frac {1397 + 31} {1397 + 322 + 31 + 9}$$\n",
    "정확도는 맞게 예측한 것이 어느 정도인지 봄\n",
    "$$ Sensitivity = \\frac {1397} {1397 + 322}$$\n",
    "민감도는 0을 0으로 제대로 예측하는 경우가 중요할 때 사용됨. 이 경우는 신용도가 좋은 사람을 좋게 예측하는 것이 더 좋은 경우\n",
    "$$ Specificity = \\frac {31} {31 + 9}$$\n",
    "특이도는 1을 1로 제대로 예측하는 것이 중요한 경우 사용"
   ]
  },
  {
   "cell_type": "markdown",
   "metadata": {},
   "source": [
    "#  DecisionTree wage data regression"
   ]
  },
  {
   "cell_type": "markdown",
   "metadata": {},
   "source": [
    "## 데이터 불러오기 "
   ]
  },
  {
   "cell_type": "code",
   "execution_count": 2,
   "metadata": {
    "ExecuteTime": {
     "end_time": "2021-04-16T14:37:22.841115Z",
     "start_time": "2021-04-16T14:37:22.361Z"
    }
   },
   "outputs": [],
   "source": [
    "wages <- read.csv(\"wages-1.csv\", header = T)"
   ]
  },
  {
   "cell_type": "code",
   "execution_count": 3,
   "metadata": {
    "ExecuteTime": {
     "end_time": "2021-04-16T14:37:22.878133Z",
     "start_time": "2021-04-16T14:37:22.569Z"
    }
   },
   "outputs": [
    {
     "data": {
      "text/html": [
       "<ol class=list-inline>\n",
       "\t<li>1084</li>\n",
       "\t<li>20</li>\n",
       "</ol>\n"
      ],
      "text/latex": [
       "\\begin{enumerate*}\n",
       "\\item 1084\n",
       "\\item 20\n",
       "\\end{enumerate*}\n"
      ],
      "text/markdown": [
       "1. 1084\n",
       "2. 20\n",
       "\n",
       "\n"
      ],
      "text/plain": [
       "[1] 1084   20"
      ]
     },
     "metadata": {},
     "output_type": "display_data"
    }
   ],
   "source": [
    "dim(wages)"
   ]
  },
  {
   "cell_type": "code",
   "execution_count": 4,
   "metadata": {
    "ExecuteTime": {
     "end_time": "2021-04-16T14:37:22.934068Z",
     "start_time": "2021-04-16T14:37:22.802Z"
    }
   },
   "outputs": [
    {
     "name": "stdout",
     "output_type": "stream",
     "text": [
      "'data.frame':\t1084 obs. of  20 variables:\n",
      " $ educ    : int  12 12 6 12 12 8 11 15 16 15 ...\n",
      " $ south   : int  0 0 0 0 0 0 0 0 0 0 ...\n",
      " $ nonwh   : int  0 0 0 0 0 0 0 0 0 0 ...\n",
      " $ hispanic: int  0 0 1 0 0 0 0 0 0 0 ...\n",
      " $ gender  : int  0 1 0 0 0 0 0 1 1 0 ...\n",
      " $ married : int  0 1 1 1 1 1 0 0 0 1 ...\n",
      " $ marrfem : int  0 1 0 0 0 0 0 0 0 0 ...\n",
      " $ exper   : int  8 30 38 19 11 43 2 9 17 23 ...\n",
      " $ expersq : int  64 900 1444 361 121 1849 4 81 289 529 ...\n",
      " $ union   : int  0 1 1 1 0 0 0 0 0 1 ...\n",
      " $ lnwage  : num  1.22 1.61 2.14 2.07 1.65 ...\n",
      " $ age     : int  25 47 49 36 28 56 18 29 38 43 ...\n",
      " $ manuf   : int  0 0 0 0 0 0 1 0 0 0 ...\n",
      " $ constr  : int  0 0 1 0 0 0 0 0 0 0 ...\n",
      " $ manag   : int  0 0 0 0 0 0 0 1 0 0 ...\n",
      " $ sales   : int  0 0 0 1 0 0 0 0 0 0 ...\n",
      " $ clerical: int  0 1 0 0 0 0 0 0 0 1 ...\n",
      " $ service : int  1 0 0 0 0 0 0 0 0 0 ...\n",
      " $ prof    : int  0 0 0 0 0 0 0 0 1 0 ...\n",
      " $ cps85   : int  0 0 0 0 0 0 0 0 0 0 ...\n"
     ]
    }
   ],
   "source": [
    "str(wages)"
   ]
  },
  {
   "cell_type": "markdown",
   "metadata": {},
   "source": [
    "lnwage 변수가 regression의 target이 되는데 이는 자연로그(ln)가 씌워진 값이다."
   ]
  },
  {
   "cell_type": "code",
   "execution_count": 5,
   "metadata": {
    "ExecuteTime": {
     "end_time": "2021-04-16T14:43:42.072169Z",
     "start_time": "2021-04-16T14:43:41.994Z"
    }
   },
   "outputs": [],
   "source": [
    "wages[,2]=as.factor(wages[,2])\n",
    "wages[,3]=as.factor(wages[,3])\n",
    "wages[,4]=as.factor(wages[,4])\n",
    "wages[,5]=as.factor(wages[,5])\n",
    "wages[,6]=as.factor(wages[,6])\n",
    "wages[,7]=as.factor(wages[,7])\n",
    "wages[,10]=as.factor(wages[,10])\n",
    "wages[,13]=as.factor(wages[,13])\n",
    "wages[,14]=as.factor(wages[,14])\n",
    "wages[,15]=as.factor(wages[,15])\n",
    "wages[,16]=as.factor(wages[,16])\n",
    "wages[,17]=as.factor(wages[,17])\n",
    "wages[,18]=as.factor(wages[,18])\n",
    "wages[,19]=as.factor(wages[,19])\n",
    "wages[,20]=as.factor(wages[,20])"
   ]
  },
  {
   "cell_type": "markdown",
   "metadata": {},
   "source": [
    "바이너리 변수들을 팩터화 시켜준다"
   ]
  },
  {
   "cell_type": "markdown",
   "metadata": {},
   "source": [
    "## 데이터 분리 "
   ]
  },
  {
   "cell_type": "code",
   "execution_count": 6,
   "metadata": {
    "ExecuteTime": {
     "end_time": "2021-04-16T14:45:57.953355Z",
     "start_time": "2021-04-16T14:45:57.921Z"
    }
   },
   "outputs": [],
   "source": [
    "set.seed(1234)\n",
    "ind <- sample(2, nrow(wages), replace=TRUE, prob=c(0.7, 0.3))"
   ]
  },
  {
   "cell_type": "code",
   "execution_count": 7,
   "metadata": {
    "ExecuteTime": {
     "end_time": "2021-04-16T14:46:08.016143Z",
     "start_time": "2021-04-16T14:46:07.980Z"
    }
   },
   "outputs": [],
   "source": [
    "wages.train <- wages[ind==1,]\n",
    "wages.test <- wages[ind==2,]"
   ]
  },
  {
   "cell_type": "markdown",
   "metadata": {},
   "source": [
    "## 모델 학습"
   ]
  },
  {
   "cell_type": "code",
   "execution_count": 8,
   "metadata": {
    "ExecuteTime": {
     "end_time": "2021-04-16T14:46:49.733540Z",
     "start_time": "2021-04-16T14:46:49.570Z"
    }
   },
   "outputs": [],
   "source": [
    "wages_rpart <- rpart(lnwage~., data = wages.train, \n",
    "                       control = rpart.control(minsplit = 10))"
   ]
  },
  {
   "cell_type": "code",
   "execution_count": 10,
   "metadata": {
    "ExecuteTime": {
     "end_time": "2021-04-16T14:47:01.306825Z",
     "start_time": "2021-04-16T14:47:01.268Z"
    }
   },
   "outputs": [
    {
     "data": {
      "text/html": [
       "<dl>\n",
       "\t<dt>$names</dt>\n",
       "\t\t<dd><ol class=list-inline>\n",
       "\t<li>'frame'</li>\n",
       "\t<li>'where'</li>\n",
       "\t<li>'call'</li>\n",
       "\t<li>'terms'</li>\n",
       "\t<li>'cptable'</li>\n",
       "\t<li>'method'</li>\n",
       "\t<li>'parms'</li>\n",
       "\t<li>'control'</li>\n",
       "\t<li>'functions'</li>\n",
       "\t<li>'numresp'</li>\n",
       "\t<li>'splits'</li>\n",
       "\t<li>'csplit'</li>\n",
       "\t<li>'variable.importance'</li>\n",
       "\t<li>'y'</li>\n",
       "\t<li>'ordered'</li>\n",
       "</ol>\n",
       "</dd>\n",
       "\t<dt>$xlevels</dt>\n",
       "\t\t<dd><dl>\n",
       "\t<dt>$south</dt>\n",
       "\t\t<dd><ol class=list-inline>\n",
       "\t<li>'0'</li>\n",
       "\t<li>'1'</li>\n",
       "</ol>\n",
       "</dd>\n",
       "\t<dt>$nonwh</dt>\n",
       "\t\t<dd><ol class=list-inline>\n",
       "\t<li>'0'</li>\n",
       "\t<li>'1'</li>\n",
       "</ol>\n",
       "</dd>\n",
       "\t<dt>$hispanic</dt>\n",
       "\t\t<dd><ol class=list-inline>\n",
       "\t<li>'0'</li>\n",
       "\t<li>'1'</li>\n",
       "</ol>\n",
       "</dd>\n",
       "\t<dt>$gender</dt>\n",
       "\t\t<dd><ol class=list-inline>\n",
       "\t<li>'0'</li>\n",
       "\t<li>'1'</li>\n",
       "</ol>\n",
       "</dd>\n",
       "\t<dt>$married</dt>\n",
       "\t\t<dd><ol class=list-inline>\n",
       "\t<li>'0'</li>\n",
       "\t<li>'1'</li>\n",
       "</ol>\n",
       "</dd>\n",
       "\t<dt>$marrfem</dt>\n",
       "\t\t<dd><ol class=list-inline>\n",
       "\t<li>'0'</li>\n",
       "\t<li>'1'</li>\n",
       "</ol>\n",
       "</dd>\n",
       "\t<dt>$union</dt>\n",
       "\t\t<dd><ol class=list-inline>\n",
       "\t<li>'0'</li>\n",
       "\t<li>'1'</li>\n",
       "</ol>\n",
       "</dd>\n",
       "\t<dt>$manuf</dt>\n",
       "\t\t<dd><ol class=list-inline>\n",
       "\t<li>'0'</li>\n",
       "\t<li>'1'</li>\n",
       "</ol>\n",
       "</dd>\n",
       "\t<dt>$constr</dt>\n",
       "\t\t<dd><ol class=list-inline>\n",
       "\t<li>'0'</li>\n",
       "\t<li>'1'</li>\n",
       "</ol>\n",
       "</dd>\n",
       "\t<dt>$manag</dt>\n",
       "\t\t<dd><ol class=list-inline>\n",
       "\t<li>'0'</li>\n",
       "\t<li>'1'</li>\n",
       "</ol>\n",
       "</dd>\n",
       "\t<dt>$sales</dt>\n",
       "\t\t<dd><ol class=list-inline>\n",
       "\t<li>'0'</li>\n",
       "\t<li>'1'</li>\n",
       "</ol>\n",
       "</dd>\n",
       "\t<dt>$clerical</dt>\n",
       "\t\t<dd><ol class=list-inline>\n",
       "\t<li>'0'</li>\n",
       "\t<li>'1'</li>\n",
       "</ol>\n",
       "</dd>\n",
       "\t<dt>$service</dt>\n",
       "\t\t<dd><ol class=list-inline>\n",
       "\t<li>'0'</li>\n",
       "\t<li>'1'</li>\n",
       "</ol>\n",
       "</dd>\n",
       "\t<dt>$prof</dt>\n",
       "\t\t<dd><ol class=list-inline>\n",
       "\t<li>'0'</li>\n",
       "\t<li>'1'</li>\n",
       "</ol>\n",
       "</dd>\n",
       "\t<dt>$cps85</dt>\n",
       "\t\t<dd><ol class=list-inline>\n",
       "\t<li>'0'</li>\n",
       "\t<li>'1'</li>\n",
       "</ol>\n",
       "</dd>\n",
       "</dl>\n",
       "</dd>\n",
       "\t<dt>$class</dt>\n",
       "\t\t<dd>'rpart'</dd>\n",
       "</dl>\n"
      ],
      "text/latex": [
       "\\begin{description}\n",
       "\\item[\\$names] \\begin{enumerate*}\n",
       "\\item 'frame'\n",
       "\\item 'where'\n",
       "\\item 'call'\n",
       "\\item 'terms'\n",
       "\\item 'cptable'\n",
       "\\item 'method'\n",
       "\\item 'parms'\n",
       "\\item 'control'\n",
       "\\item 'functions'\n",
       "\\item 'numresp'\n",
       "\\item 'splits'\n",
       "\\item 'csplit'\n",
       "\\item 'variable.importance'\n",
       "\\item 'y'\n",
       "\\item 'ordered'\n",
       "\\end{enumerate*}\n",
       "\n",
       "\\item[\\$xlevels] \\begin{description}\n",
       "\\item[\\$south] \\begin{enumerate*}\n",
       "\\item '0'\n",
       "\\item '1'\n",
       "\\end{enumerate*}\n",
       "\n",
       "\\item[\\$nonwh] \\begin{enumerate*}\n",
       "\\item '0'\n",
       "\\item '1'\n",
       "\\end{enumerate*}\n",
       "\n",
       "\\item[\\$hispanic] \\begin{enumerate*}\n",
       "\\item '0'\n",
       "\\item '1'\n",
       "\\end{enumerate*}\n",
       "\n",
       "\\item[\\$gender] \\begin{enumerate*}\n",
       "\\item '0'\n",
       "\\item '1'\n",
       "\\end{enumerate*}\n",
       "\n",
       "\\item[\\$married] \\begin{enumerate*}\n",
       "\\item '0'\n",
       "\\item '1'\n",
       "\\end{enumerate*}\n",
       "\n",
       "\\item[\\$marrfem] \\begin{enumerate*}\n",
       "\\item '0'\n",
       "\\item '1'\n",
       "\\end{enumerate*}\n",
       "\n",
       "\\item[\\$union] \\begin{enumerate*}\n",
       "\\item '0'\n",
       "\\item '1'\n",
       "\\end{enumerate*}\n",
       "\n",
       "\\item[\\$manuf] \\begin{enumerate*}\n",
       "\\item '0'\n",
       "\\item '1'\n",
       "\\end{enumerate*}\n",
       "\n",
       "\\item[\\$constr] \\begin{enumerate*}\n",
       "\\item '0'\n",
       "\\item '1'\n",
       "\\end{enumerate*}\n",
       "\n",
       "\\item[\\$manag] \\begin{enumerate*}\n",
       "\\item '0'\n",
       "\\item '1'\n",
       "\\end{enumerate*}\n",
       "\n",
       "\\item[\\$sales] \\begin{enumerate*}\n",
       "\\item '0'\n",
       "\\item '1'\n",
       "\\end{enumerate*}\n",
       "\n",
       "\\item[\\$clerical] \\begin{enumerate*}\n",
       "\\item '0'\n",
       "\\item '1'\n",
       "\\end{enumerate*}\n",
       "\n",
       "\\item[\\$service] \\begin{enumerate*}\n",
       "\\item '0'\n",
       "\\item '1'\n",
       "\\end{enumerate*}\n",
       "\n",
       "\\item[\\$prof] \\begin{enumerate*}\n",
       "\\item '0'\n",
       "\\item '1'\n",
       "\\end{enumerate*}\n",
       "\n",
       "\\item[\\$cps85] \\begin{enumerate*}\n",
       "\\item '0'\n",
       "\\item '1'\n",
       "\\end{enumerate*}\n",
       "\n",
       "\\end{description}\n",
       "\n",
       "\\item[\\$class] 'rpart'\n",
       "\\end{description}\n"
      ],
      "text/markdown": [
       "$names\n",
       ":   1. 'frame'\n",
       "2. 'where'\n",
       "3. 'call'\n",
       "4. 'terms'\n",
       "5. 'cptable'\n",
       "6. 'method'\n",
       "7. 'parms'\n",
       "8. 'control'\n",
       "9. 'functions'\n",
       "10. 'numresp'\n",
       "11. 'splits'\n",
       "12. 'csplit'\n",
       "13. 'variable.importance'\n",
       "14. 'y'\n",
       "15. 'ordered'\n",
       "\n",
       "\n",
       "\n",
       "$xlevels\n",
       ":   $south\n",
       ":   1. '0'\n",
       "2. '1'\n",
       "\n",
       "\n",
       "\n",
       "$nonwh\n",
       ":   1. '0'\n",
       "2. '1'\n",
       "\n",
       "\n",
       "\n",
       "$hispanic\n",
       ":   1. '0'\n",
       "2. '1'\n",
       "\n",
       "\n",
       "\n",
       "$gender\n",
       ":   1. '0'\n",
       "2. '1'\n",
       "\n",
       "\n",
       "\n",
       "$married\n",
       ":   1. '0'\n",
       "2. '1'\n",
       "\n",
       "\n",
       "\n",
       "$marrfem\n",
       ":   1. '0'\n",
       "2. '1'\n",
       "\n",
       "\n",
       "\n",
       "$union\n",
       ":   1. '0'\n",
       "2. '1'\n",
       "\n",
       "\n",
       "\n",
       "$manuf\n",
       ":   1. '0'\n",
       "2. '1'\n",
       "\n",
       "\n",
       "\n",
       "$constr\n",
       ":   1. '0'\n",
       "2. '1'\n",
       "\n",
       "\n",
       "\n",
       "$manag\n",
       ":   1. '0'\n",
       "2. '1'\n",
       "\n",
       "\n",
       "\n",
       "$sales\n",
       ":   1. '0'\n",
       "2. '1'\n",
       "\n",
       "\n",
       "\n",
       "$clerical\n",
       ":   1. '0'\n",
       "2. '1'\n",
       "\n",
       "\n",
       "\n",
       "$service\n",
       ":   1. '0'\n",
       "2. '1'\n",
       "\n",
       "\n",
       "\n",
       "$prof\n",
       ":   1. '0'\n",
       "2. '1'\n",
       "\n",
       "\n",
       "\n",
       "$cps85\n",
       ":   1. '0'\n",
       "2. '1'\n",
       "\n",
       "\n",
       "\n",
       "\n",
       "\n",
       "\n",
       "$class\n",
       ":   'rpart'\n",
       "\n",
       "\n"
      ],
      "text/plain": [
       "$names\n",
       " [1] \"frame\"               \"where\"               \"call\"               \n",
       " [4] \"terms\"               \"cptable\"             \"method\"             \n",
       " [7] \"parms\"               \"control\"             \"functions\"          \n",
       "[10] \"numresp\"             \"splits\"              \"csplit\"             \n",
       "[13] \"variable.importance\" \"y\"                   \"ordered\"            \n",
       "\n",
       "$xlevels\n",
       "$xlevels$south\n",
       "[1] \"0\" \"1\"\n",
       "\n",
       "$xlevels$nonwh\n",
       "[1] \"0\" \"1\"\n",
       "\n",
       "$xlevels$hispanic\n",
       "[1] \"0\" \"1\"\n",
       "\n",
       "$xlevels$gender\n",
       "[1] \"0\" \"1\"\n",
       "\n",
       "$xlevels$married\n",
       "[1] \"0\" \"1\"\n",
       "\n",
       "$xlevels$marrfem\n",
       "[1] \"0\" \"1\"\n",
       "\n",
       "$xlevels$union\n",
       "[1] \"0\" \"1\"\n",
       "\n",
       "$xlevels$manuf\n",
       "[1] \"0\" \"1\"\n",
       "\n",
       "$xlevels$constr\n",
       "[1] \"0\" \"1\"\n",
       "\n",
       "$xlevels$manag\n",
       "[1] \"0\" \"1\"\n",
       "\n",
       "$xlevels$sales\n",
       "[1] \"0\" \"1\"\n",
       "\n",
       "$xlevels$clerical\n",
       "[1] \"0\" \"1\"\n",
       "\n",
       "$xlevels$service\n",
       "[1] \"0\" \"1\"\n",
       "\n",
       "$xlevels$prof\n",
       "[1] \"0\" \"1\"\n",
       "\n",
       "$xlevels$cps85\n",
       "[1] \"0\" \"1\"\n",
       "\n",
       "\n",
       "$class\n",
       "[1] \"rpart\"\n"
      ]
     },
     "metadata": {},
     "output_type": "display_data"
    }
   ],
   "source": [
    "attributes(wages_rpart)"
   ]
  },
  {
   "cell_type": "code",
   "execution_count": 11,
   "metadata": {
    "ExecuteTime": {
     "end_time": "2021-04-16T14:47:07.509918Z",
     "start_time": "2021-04-16T14:47:07.481Z"
    }
   },
   "outputs": [
    {
     "name": "stdout",
     "output_type": "stream",
     "text": [
      "           CP nsplit rel error    xerror       xstd\n",
      "1  0.12191522      0 1.0000000 1.0038302 0.05235887\n",
      "2  0.08405143      1 0.8780848 0.8928650 0.05166451\n",
      "3  0.05254787      2 0.7940334 0.8142463 0.05014785\n",
      "4  0.03228514      3 0.7414855 0.7614250 0.04679488\n",
      "5  0.02116927      4 0.7092003 0.7274319 0.04561742\n",
      "6  0.01429957      5 0.6880311 0.7371235 0.04619435\n",
      "7  0.01304124      6 0.6737315 0.7446111 0.04763170\n",
      "8  0.01229514      7 0.6606903 0.7372707 0.04665443\n",
      "9  0.01195528      8 0.6483951 0.7394490 0.04676157\n",
      "10 0.01194877      9 0.6364398 0.7377040 0.04671829\n",
      "11 0.01071079     10 0.6244911 0.7349069 0.04671868\n",
      "12 0.01066049     11 0.6137803 0.7353078 0.04674937\n",
      "13 0.01000000     13 0.5924593 0.7396308 0.04646130\n"
     ]
    }
   ],
   "source": [
    "print(wages_rpart$cptable)"
   ]
  },
  {
   "cell_type": "code",
   "execution_count": 12,
   "metadata": {
    "ExecuteTime": {
     "end_time": "2021-04-16T14:47:22.470259Z",
     "start_time": "2021-04-16T14:47:18.569Z"
    }
   },
   "outputs": [
    {
     "name": "stdout",
     "output_type": "stream",
     "text": [
      "n= 759 \n",
      "\n",
      "node), split, n, deviance, yval\n",
      "      * denotes terminal node\n",
      "\n",
      "  1) root 759 217.3735000 1.860493  \n",
      "    2) age< 25.5 158  28.8373200 1.496058  \n",
      "      4) cps85=0 93  10.6126200 1.384075 *\n",
      "      5) cps85=1 65  15.3898800 1.656278  \n",
      "       10) educ< 13.5 54   7.5878430 1.579189 *\n",
      "       11) educ>=13.5 11   5.9057440 2.034718  \n",
      "         22) educ>=14.5 7   0.2119406 1.657557 *\n",
      "         23) educ< 14.5 4   2.9554830 2.694750 *\n",
      "    3) age>=25.5 601 162.0351000 1.956301  \n",
      "      6) cps85=0 288  62.1318400 1.774534  \n",
      "       12) gender=1 105  23.3962000 1.568452 *\n",
      "       13) gender=0 183  31.7177100 1.892778  \n",
      "         26) educ< 11.5 55   7.2561420 1.650867 *\n",
      "         27) educ>=11.5 128  19.8599200 1.996723  \n",
      "           54) age< 34.5 42   3.1840260 1.789952 *\n",
      "           55) age>=34.5 86  14.0032600 2.097705  \n",
      "            110) educ< 14.5 56   7.7510890 1.970471 *\n",
      "            111) educ>=14.5 30   3.6534110 2.335207 *\n",
      "      7) cps85=1 313  81.6326800 2.123550  \n",
      "       14) educ< 12.5 181  40.2230300 1.960411  \n",
      "         28) gender=1 94  14.4290900 1.834338 *\n",
      "         29) gender=0 87  22.6855900 2.096628  \n",
      "           58) union=0 62  17.0675900 1.992748 *\n",
      "           59) union=1 25   3.2897560 2.354248 *\n",
      "       15) educ>=12.5 132  29.9871400 2.347247  \n",
      "         30) service=1 10   0.9720025 1.857290 *\n",
      "         31) service=0 122  26.4177900 2.387407 *\n"
     ]
    }
   ],
   "source": [
    "print(wages_rpart)"
   ]
  },
  {
   "cell_type": "code",
   "execution_count": 13,
   "metadata": {
    "ExecuteTime": {
     "end_time": "2021-04-16T14:47:38.251458Z",
     "start_time": "2021-04-16T14:47:37.650Z"
    }
   },
   "outputs": [
    {
     "data": {
      "image/png": "[encoded data removed]",
      "text/plain": [
       "plot without title"
      ]
     },
     "metadata": {
      "image/png": {
       "height": 420,
       "width": 420
      }
     },
     "output_type": "display_data"
    }
   ],
   "source": [
    "plot(wages_rpart)\n",
    "text(wages_rpart, use.n=T)"
   ]
  },
  {
   "cell_type": "code",
   "execution_count": 17,
   "metadata": {
    "ExecuteTime": {
     "end_time": "2021-04-16T14:51:47.985375Z",
     "start_time": "2021-04-16T14:51:47.562Z"
    }
   },
   "outputs": [
    {
     "data": {
      "image/png": "[encoded data removed]",
      "text/plain": [
       "plot without title"
      ]
     },
     "metadata": {
      "image/png": {
       "height": 420,
       "width": 420
      }
     },
     "output_type": "display_data"
    }
   ],
   "source": [
    "rpart.plot(wages_rpart)"
   ]
  },
  {
   "cell_type": "markdown",
   "metadata": {},
   "source": [
    "rpart.plot 라이브러리로 시각화할 수 있음"
   ]
  },
  {
   "cell_type": "markdown",
   "metadata": {},
   "source": [
    "cps85는 조사 시점으로 85년 이후 조사인지 이전 조사인지 나타내는 변수이다. 85년 시점이 no인 이전 조사의 가지에서는 gender가 더 높은 영향을 미치고 85년 조사에서는 성별보다는 교육 수준이 더 큰 영향을 끼친다는 해석이 가능하다."
   ]
  },
  {
   "cell_type": "markdown",
   "metadata": {},
   "source": [
    "## test 적용 "
   ]
  },
  {
   "cell_type": "code",
   "execution_count": 20,
   "metadata": {
    "ExecuteTime": {
     "end_time": "2021-04-16T14:57:04.681319Z",
     "start_time": "2021-04-16T14:57:04.547Z"
    }
   },
   "outputs": [
    {
     "data": {
      "image/png": "[encoded data removed]",
      "text/plain": [
       "plot without title"
      ]
     },
     "metadata": {
      "image/png": {
       "height": 420,
       "width": 420
      }
     },
     "output_type": "display_data"
    }
   ],
   "source": [
    "wages_pred <- predict(wages_rpart, newdata=wages.test)\n",
    "xlim <- range(wages$lnwage)\n",
    "plot(wages_pred ~ lnwage, data=wages.test, xlab=\"Observed\", \n",
    "     ylab=\"Predicted\", ylim=xlim, xlim=xlim)\n",
    "abline(a=0, b=1) #일직선 그려줌"
   ]
  },
  {
   "cell_type": "markdown",
   "metadata": {},
   "source": [
    "점들이 마치 범주처럼 위치해있는데 이는 변수를 범주화시키는 의사결정나무의 특징이다."
   ]
  }
 ],
 "metadata": {
  "kernelspec": {
   "display_name": "R",
   "language": "R",
   "name": "ir"
  },
  "language_info": {
   "codemirror_mode": "r",
   "file_extension": ".r",
   "mimetype": "text/x-r-source",
   "name": "R",
   "pygments_lexer": "r",
   "version": "3.6.3"
  },
  "toc": {
   "base_numbering": 1,
   "nav_menu": {},
   "number_sections": true,
   "sideBar": true,
   "skip_h1_title": false,
   "title_cell": "Table of Contents",
   "title_sidebar": "Contents",
   "toc_cell": false,
   "toc_position": {
    "height": "236.2px",
    "left": "600.962px",
    "top": "94px",
    "width": "150.238px"
   },
   "toc_section_display": true,
   "toc_window_display": true
  }
 },
 "nbformat": 4,
 "nbformat_minor": 4
}
